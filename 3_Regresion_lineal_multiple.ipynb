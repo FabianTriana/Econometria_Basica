{
  "nbformat": 4,
  "nbformat_minor": 0,
  "metadata": {
    "kernelspec": {
      "name": "python3",
      "display_name": "Python 3",
      "language": "python"
    },
    "language_info": {
      "mimetype": "text/x-python",
      "nbconvert_exporter": "python",
      "name": "python",
      "pygments_lexer": "ipython3",
      "version": "3.5.4",
      "file_extension": ".py",
      "codemirror_mode": {
        "version": 3,
        "name": "ipython"
      }
    },
    "colab": {
      "name": "3.Regresion_lineal_multiple.ipynb",
      "provenance": [],
      "collapsed_sections": [],
      "toc_visible": true
    }
  },
  "cells": [
    {
      "cell_type": "markdown",
      "metadata": {
        "id": "Fb2RacDUYMMZ"
      },
      "source": [
        "# Econometría básica con Python\r\n",
        "## Regresión Lineal Múltiple\r\n",
        "\r\n",
        "**Fabián Alejandro Triana Alarcón**\r\n",
        "\r\n",
        "fatrianaa1@gmail.com / fatrianaa@unal.edu.co\r\n",
        "\r\n",
        "Economista. Estudiante de Especialización en Estadística\r\n",
        "\r\n",
        "Universidad Nacional de Colombia"
      ]
    },
    {
      "cell_type": "markdown",
      "metadata": {
        "id": "C5a94JwnpkkB"
      },
      "source": [
        "## Regresión lineal múltiple"
      ]
    },
    {
      "cell_type": "markdown",
      "metadata": {
        "id": "f4-R5H_o8FtG"
      },
      "source": [
        "El análisis de regresión estudia la relación que existe entre una variable dependiente ($y$) y una o más variables explicativas ($x_1,x_2,...,x_k$). Cuando el comportamiento de la variable $y$ es explicado por más de una variable, se tiene una regresión múltiple, lo cual puede expresarse de la siguiente manera:\r\n",
        "\r\n",
        "$$y_i = \\beta_0+\\beta_1x_{1i}+\\beta_2x_{2i}+...+\\beta_kx_{ki}+u_i$$\r\n",
        "\r\n",
        "Así, en una regresión lineal múltiple, se tienen $k$ variables que explican el comportamiento de la variable dependiente. En estas situaciones, tiende a utilizarse notación matricial en cuanto simplifica las expresiones:\r\n",
        "\r\n",
        "$$\\boldsymbol{y}=\\boldsymbol{X\\beta+u}$$\r\n",
        "\r\n",
        "Debe observarse que, mientras en la expresión individual, $y_i = \\beta_0+\\beta_1x_{1i}+\\beta_2x_{2i}+...+\\beta_kx_{ki}+u_i$, no importa el orden de los términos $\\beta_j$ y $x_j$ (es decir, da lo mismo escribir $\\beta_jx_j$ que $x_j\\beta_j$), en la expresión matricial **sí** es indispensable conservar el orden $\\boldsymbol{X\\beta}$. Esto se debe a que en la expresión individual se estan múltiplicando escalares y en la multiplicación de escalares el \"orden de los factores no altera el resultado\"; por el contrario, en la expresión matricial se están multiplicando matrices y en la multiplicación de matrices importa la dimensión, por lo que, consecuentemente, importa el orden en el que estas se multiplican.\r\n",
        "\r\n",
        "Al emplear la notación $\\boldsymbol{y=X\\beta+u}$ en el problema de regresión, se tiene una matriz $\\boldsymbol{y}$ de tamaño $n\\times 1$ que contiene los valores de la variable dependiente, una matriz $\\boldsymbol{X}$ de tamaño $n\\times k$ que contiene los valores de las variables explicativas, una matriz $\\boldsymbol{\\beta}$ de tamaño $k\\times 1$ que corresponde a los parámetros y una matriz $\\boldsymbol{u}$ de tamaño $n\\times 1$ que corresponde al término de error. ($n$ es el número de observaciones y $k$ el número de parámetros a estimar, incluyendo el término del intercepto si la regresión lo tiene)\r\n",
        "\r\n",
        "El objetivo del método de Mínimos Cuadrados Ordinarios es minimizar la suma de residuos cuadrados, es decir, minimizar la suma de los valores contenidos en $\\boldsymbol{\\hat u}$ elevados al cuadrado. Cuando se emplea la notación matricial, del proceso de minimización se obtiene que el valor óptimo de los parámetros está dado por:\r\n",
        "\r\n",
        "$$\\boldsymbol{\\hat\\beta=(X^TX)^{-1}X^Ty}$$\r\n",
        "\r\n",
        "De esta manera, reemplazando los valores muestrales en la anterior expresión se obtienen los valores estimados de los parámetros con los que se minimiza la suma de residuos cuadrados para el caso examinado."
      ]
    },
    {
      "cell_type": "markdown",
      "metadata": {
        "id": "3mqjHqHMGDa6"
      },
      "source": [
        "## Regresión lineal múltiple en Python\r\n",
        "\r\n",
        "Para llevar a cabo una estimación por MCO en un problema de regresión múltiple en Python es suficiente con importar *pandas* y *Statsmodels.api* para contar con las herramientas requeridas. Sin embargo, además de estas, también se importará *NumPy*, el módulo `pyplot` de *Matplotlib* y *Seaborn* para poder llevar a cabo un análisis más completo:"
      ]
    },
    {
      "cell_type": "code",
      "metadata": {
        "trusted": false,
        "id": "nlX9_B8GYMMb",
        "colab": {
          "base_uri": "https://localhost:8080/"
        },
        "outputId": "25701090-0500-4b5c-9fce-9e954f144753"
      },
      "source": [
        "import numpy as np\n",
        "import pandas as pd\n",
        "import statsmodels.api as sm\n",
        "import matplotlib.pyplot as plt\n",
        "import seaborn as sns"
      ],
      "execution_count": 1,
      "outputs": [
        {
          "output_type": "stream",
          "text": [
            "/usr/local/lib/python3.6/dist-packages/statsmodels/tools/_testing.py:19: FutureWarning: pandas.util.testing is deprecated. Use the functions in the public API at pandas.testing instead.\n",
            "  import pandas.util.testing as tm\n"
          ],
          "name": "stderr"
        }
      ]
    },
    {
      "cell_type": "markdown",
      "metadata": {
        "id": "-yoz4EjHG94p"
      },
      "source": [
        "Aunque *Statsmodels.api* cuenta con una herramienta completamente funcional para la estimación por MCO (la función `OLS(...)`), inicialmente se diseñará una función propia para entender a mayor detalle la lógica del método de MCO.\r\n",
        "\r\n",
        "Para definir la función se partirá de la lógica dada por la notación matricial, de modo que los argumentos que se incluirán al momento de emplear la función serán matrices (concretamente, `DataFrame`s de *pandas*) y las operaciones que se desarrollarán internamente corresponderán a las descritas en la expresión $\\boldsymbol{\\hat\\beta=(X^TX)^{-1}X^Ty}$.\r\n",
        "\r\n",
        "Aunque la forma más \"natural\" de emplear matrices en Python es con `array`s de *NumPy*, en esta función se emplearán `DataFrame`s de *pandas*, pues se trata de estructuras que, por sus características, resultan más completas para los objetivos planteados.\r\n",
        "\r\n",
        "El código correspondiente a una función que lleva a cabo estimación por MCO empleando `DataFrame`s de *pandas* es el siguiente:\r\n"
      ]
    },
    {
      "cell_type": "code",
      "metadata": {
        "id": "cq5A1uUgQqYn"
      },
      "source": [
        "def EstimadoresMCO(X,y):\r\n",
        "    XTX = (X.T).dot(X)\r\n",
        "    Inversa_de_XTX = np.linalg.inv(XTX)\r\n",
        "    XTy = (X.T).dot(y)\r\n",
        "    Estimadores = Inversa_de_XTX.dot(XTy)\r\n",
        "    Estimadores = pd.DataFrame(Estimadores, \r\n",
        "                               columns = [\"Estimadores\"]).set_index(X.columns)\r\n",
        "    return Estimadores"
      ],
      "execution_count": 2,
      "outputs": []
    },
    {
      "cell_type": "markdown",
      "metadata": {
        "id": "KCntHbQQQ0Jp"
      },
      "source": [
        "La función que se ha definido tiene el nombre `EstimadoresMCO(...)` y recibe dos argumentos, que se espera sean `DataFrame`s de *pandas*. Internamente, la primera tarea que hace la función es transponer la matriz $\\boldsymbol{X}$ y multiplicarla por la matriz $\\boldsymbol{X}$. La segunda tarea que lleva a cabo es invertir la matriz resultante en el paso previo, empleando la función `inv(...)` del módulo `linalg` de *NumPy*. Después, se obtiene el producto resultante de la multiplicación de la matriz $\\boldsymbol{X}$ transpuesta con la matriz $\\boldsymbol{y}$. Una vez se han obtenido las matrices previamente señaladas, se procede a la obtención de los estimadores empleando la expresión $\\boldsymbol{\\hat\\beta=(X^TX)^{-1}X^Ty}$; estos estimadores se almacenan en una variable llamada `Estimadores`, a partir de la cual se define un `DataFrame` de *pandas* que permita identificar qué valor corresponde a qué variable.\r\n",
        "\r\n",
        "Una vez se ha ejecutado la celda de código previa, se puede emplear la función para realizar estimación de parámetros por MCO. Para esto, a modo ilustrativo, se definirán 2 variables explicativas, un vector de unos (correspondiente al intercepto) y un vector de errores con media cero y varianza constante:"
      ]
    },
    {
      "cell_type": "code",
      "metadata": {
        "id": "xyof0uwzQ0ZZ"
      },
      "source": [
        "Intercepto = np.repeat(1, 1000)\r\n",
        "Variable1 = np.random.normal(200, 30, 1000)\r\n",
        "Variable2 = np.random.normal(400, 80, 1000)\r\n",
        "Error = np.random.normal(0, 4, 1000)"
      ],
      "execution_count": 3,
      "outputs": []
    },
    {
      "cell_type": "markdown",
      "metadata": {
        "id": "zok3Y8CqUC1a"
      },
      "source": [
        "Ahora, se definirá el proceso que genera los valores de la variable dependiente, es decir, se asignarán valores poblacionales a los $\\beta_j$ de la expresión $\\boldsymbol{y=X\\beta+u}$:"
      ]
    },
    {
      "cell_type": "code",
      "metadata": {
        "id": "7syXEc9ZUCAs"
      },
      "source": [
        "y = 2*Intercepto + 4*Variable1 + 3*Variable2 + Error"
      ],
      "execution_count": 4,
      "outputs": []
    },
    {
      "cell_type": "markdown",
      "metadata": {
        "id": "2kD5p7sGUowl"
      },
      "source": [
        "Ya se tienen definidos todos los valores necesarios, estando almacenados en `array`s de *NumPy*. Dado que la función `EstimadoresMCO(...)` espera `DataFrame`s de *pandas* como argumentos, se definirán los objetos requeridos a partir de los datos creados.   "
      ]
    },
    {
      "cell_type": "code",
      "metadata": {
        "id": "aGvZV8JlVOXv"
      },
      "source": [
        "Regresores = {\"Intercepto\": Intercepto, \"Variable 1\": Variable1, \"Variable 2\": Variable2}\r\n",
        "X = pd.DataFrame(Regresores)\r\n",
        "\r\n",
        "Dependiente = {\"Variable Dependiente\": y}\r\n",
        "y = pd.DataFrame(Dependiente)"
      ],
      "execution_count": 5,
      "outputs": []
    },
    {
      "cell_type": "markdown",
      "metadata": {
        "id": "n3BAmQo2VYWf"
      },
      "source": [
        "De este modo, se tiene una matriz $\\boldsymbol{y}$ de tamaño $n\\times 1$ y una matriz $\\boldsymbol{X}$ de tamaño $n\\times k$ a partir de las cuales se llevarán a cabo las tareas necesarias para encontrar $\\boldsymbol{\\hat{\\beta}}$.\r\n",
        "\r\n",
        "En un análisis de regresión se busca encontrar los valores de $\\boldsymbol{\\hat{\\beta}}$ que mejor se adaptan, por medio de una relación lineal, al comportamiento de $\\boldsymbol{y}$ de acuerdo a los valores de $\\boldsymbol{X}$. En este caso, que no es más que una situación ilustrativa con datos ficticios, se sabe que $\\beta_0=2, \\beta_1=4, \\beta_2=3$, pues estos han sido los valores que se han asignado intencionalmente para definir $y$. En un análisis de regresión con datos reales, se desconoce los valores de $\\boldsymbol{\\beta}$, por lo que se emplea la estimación para aproximarse de la mejor manera a estos, determinando los $\\boldsymbol{\\hat{{\\beta}}}$ más adecuados. Así, para este caso, se espera que $\\beta_0\\approx 2, \\beta_1\\approx 4, \\beta_2\\approx 3$, pues, a diferencia de una situación real, se conoce de forma previa los valores específicos involucrados, por lo que se tiene una idea concreta de los coeficientes que se espera obtener.\r\n",
        "\r\n",
        "Para conocer los valores estimados por el método de MCO se hace uso de la función definida con anterioridad empleando los `DataFrame`s creados:"
      ]
    },
    {
      "cell_type": "code",
      "metadata": {
        "colab": {
          "base_uri": "https://localhost:8080/",
          "height": 138
        },
        "id": "PWYEpTYWVXgR",
        "outputId": "252777ec-dcf9-45d2-af76-0636e01eb9ae"
      },
      "source": [
        "EstimadoresMCO(X,y)"
      ],
      "execution_count": 6,
      "outputs": [
        {
          "output_type": "execute_result",
          "data": {
            "text/html": [
              "<div>\n",
              "<style scoped>\n",
              "    .dataframe tbody tr th:only-of-type {\n",
              "        vertical-align: middle;\n",
              "    }\n",
              "\n",
              "    .dataframe tbody tr th {\n",
              "        vertical-align: top;\n",
              "    }\n",
              "\n",
              "    .dataframe thead th {\n",
              "        text-align: right;\n",
              "    }\n",
              "</style>\n",
              "<table border=\"1\" class=\"dataframe\">\n",
              "  <thead>\n",
              "    <tr style=\"text-align: right;\">\n",
              "      <th></th>\n",
              "      <th>Estimadores</th>\n",
              "    </tr>\n",
              "  </thead>\n",
              "  <tbody>\n",
              "    <tr>\n",
              "      <th>Intercepto</th>\n",
              "      <td>1.089836</td>\n",
              "    </tr>\n",
              "    <tr>\n",
              "      <th>Variable 1</th>\n",
              "      <td>4.000014</td>\n",
              "    </tr>\n",
              "    <tr>\n",
              "      <th>Variable 2</th>\n",
              "      <td>3.001991</td>\n",
              "    </tr>\n",
              "  </tbody>\n",
              "</table>\n",
              "</div>"
            ],
            "text/plain": [
              "            Estimadores\n",
              "Intercepto     1.089836\n",
              "Variable 1     4.000014\n",
              "Variable 2     3.001991"
            ]
          },
          "metadata": {
            "tags": []
          },
          "execution_count": 6
        }
      ]
    },
    {
      "cell_type": "markdown",
      "metadata": {
        "id": "OcKSVpascM6B"
      },
      "source": [
        "Se observa que los valores obtenidos son muy cercanos a los verdaderos valores involucrados en el proceso, por lo que la estimación por MCO parece generar muy buenos resultados; de hecho, los estimadores MCO son estimadores MELI (Mejores Estimadores Lineales Insesgados) cuando se cumple un conjunto de supuestos (Teorema de Gauss-Markov).\r\n",
        "\r\n",
        "Ya se ha llevado a cabo una regresión lineal múltiple con una función definida de manera independiente; ahora, se hará uso de herramientas especializadas en estos procesos, las cuales generan información adicional de relevancia y permiten ajustar la estimación a las necesidades de cada caso. \r\n",
        "\r\n",
        "Para llevar a cabo la regresión lineal múltiple, se usará el dataset que corresponde al Ejemplo 7.1, *Mortalidad infantil en relación con el PIB per cápita y la tasa de alfabetización de las mujeres*, de Gujarati y Porter (2010)."
      ]
    },
    {
      "cell_type": "code",
      "metadata": {
        "id": "3e0rDJ3lfecb",
        "colab": {
          "base_uri": "https://localhost:8080/",
          "height": 198
        },
        "outputId": "cf87cb1a-f0e0-4083-df7e-982d9c8959e4"
      },
      "source": [
        "data = pd.read_csv(\"GujaratiPorter71.txt\", \r\n",
        "                   sep = \" \", delimiter=\"\\t\")\r\n",
        "data.head()"
      ],
      "execution_count": 7,
      "outputs": [
        {
          "output_type": "execute_result",
          "data": {
            "text/html": [
              "<div>\n",
              "<style scoped>\n",
              "    .dataframe tbody tr th:only-of-type {\n",
              "        vertical-align: middle;\n",
              "    }\n",
              "\n",
              "    .dataframe tbody tr th {\n",
              "        vertical-align: top;\n",
              "    }\n",
              "\n",
              "    .dataframe thead th {\n",
              "        text-align: right;\n",
              "    }\n",
              "</style>\n",
              "<table border=\"1\" class=\"dataframe\">\n",
              "  <thead>\n",
              "    <tr style=\"text-align: right;\">\n",
              "      <th></th>\n",
              "      <th>CM</th>\n",
              "      <th>FLR</th>\n",
              "      <th>PGNP</th>\n",
              "      <th>TFR</th>\n",
              "    </tr>\n",
              "  </thead>\n",
              "  <tbody>\n",
              "    <tr>\n",
              "      <th>0</th>\n",
              "      <td>128</td>\n",
              "      <td>37</td>\n",
              "      <td>1870</td>\n",
              "      <td>6.66</td>\n",
              "    </tr>\n",
              "    <tr>\n",
              "      <th>1</th>\n",
              "      <td>204</td>\n",
              "      <td>22</td>\n",
              "      <td>130</td>\n",
              "      <td>6.15</td>\n",
              "    </tr>\n",
              "    <tr>\n",
              "      <th>2</th>\n",
              "      <td>202</td>\n",
              "      <td>16</td>\n",
              "      <td>310</td>\n",
              "      <td>7.00</td>\n",
              "    </tr>\n",
              "    <tr>\n",
              "      <th>3</th>\n",
              "      <td>197</td>\n",
              "      <td>65</td>\n",
              "      <td>570</td>\n",
              "      <td>6.25</td>\n",
              "    </tr>\n",
              "    <tr>\n",
              "      <th>4</th>\n",
              "      <td>96</td>\n",
              "      <td>76</td>\n",
              "      <td>2050</td>\n",
              "      <td>3.81</td>\n",
              "    </tr>\n",
              "  </tbody>\n",
              "</table>\n",
              "</div>"
            ],
            "text/plain": [
              "    CM  FLR  PGNP   TFR\n",
              "0  128   37  1870  6.66\n",
              "1  204   22   130  6.15\n",
              "2  202   16   310  7.00\n",
              "3  197   65   570  6.25\n",
              "4   96   76  2050  3.81"
            ]
          },
          "metadata": {
            "tags": []
          },
          "execution_count": 7
        }
      ]
    },
    {
      "cell_type": "markdown",
      "metadata": {
        "id": "mn7duMblhTgL"
      },
      "source": [
        "El `DataFrame` contiene información de las siguientes variables:\r\n",
        "\r\n",
        "* **CM**. Esta variable hace referencia a *Child Mortality* y corresponde a la mortalidad infantil. Se trata del número de fallecimientos, en un año, de niños con una edad inferior a 5 años por cada 1000 nacidos vivos.\r\n",
        "\r\n",
        "* **FLR**. Esta variable hace referencia a *Female Literacy Rate* y corresponde a la tasa de alfabetización de las mujeres.\r\n",
        "\r\n",
        "* **PGNP** hace referencia a *Per cápita Gross National Product* y corresponde al PIB per cápita en 1980.\r\n",
        "\r\n",
        "* **TFR** hace referencia a *Total Fertility Rate* y corresponde a la tasa de fecundidad total.\r\n",
        "\r\n",
        "En la regresión lineal múltiple que se adelantará, la variable dependiente será \"CM\" (mortalidad infantil) y\r\n",
        "las variables explicativas serán \"PGNP\" (PIB per cápita) y \"FLR\" (tasa de alfabetización de las mujeres).\r\n",
        "\r\n",
        "En primer lugar, se examinará visualmente la relación existente entre las variables explicativas a emplear y la variable dependiente:"
      ]
    },
    {
      "cell_type": "code",
      "metadata": {
        "trusted": false,
        "id": "BTge2glFYMMb",
        "colab": {
          "base_uri": "https://localhost:8080/",
          "height": 477
        },
        "outputId": "b8991c95-848c-4f65-c677-a408599a45b7"
      },
      "source": [
        "g = sns.pairplot(data, x_vars = [\"PGNP\", \"FLR\"],\n",
        "                 y_vars = \"CM\", height = 5, \n",
        "                 plot_kws = {\"color\": \"darkblue\", \"s\": 50})\n",
        "g.fig.suptitle(\"Correlación entre variables\", fontsize = 18, \n",
        "               fontweight = \"bold\", y = 1.08)\n",
        "g.axes.flat[0].set_xlabel(\"PGNP\\n(PIB per cápita)\", fontsize = 15)\n",
        "g.axes.flat[0].set_ylabel(\"CM\\n(Mortalidad infantil)\", fontsize = 15)\n",
        "g.axes.flat[1].set_xlabel(\"FLR\\n(Tasa de alfabetización de las mujeres)\", \n",
        "                          fontsize = 15)\n",
        "for ax in g.axes.flat:\n",
        "    ax.tick_params(labelsize = 15)\n",
        "g.fig.text(1,-.09,\n",
        "         \"Elaboración:\",\n",
        "          fontsize = 13, fontweight = \"bold\",\n",
        "          ha = \"right\")\n",
        "g.fig.text(1,-.15,\n",
        "           \"Triana, F.\",\n",
        "           fontsize = 12, ha = \"right\")\n",
        "plt.show()"
      ],
      "execution_count": 8,
      "outputs": [
        {
          "output_type": "display_data",
          "data": {
            "image/png": "[encoded data removed]",
            "text/plain": [
              "<Figure size 720x360 with 2 Axes>"
            ]
          },
          "metadata": {
            "tags": [],
            "needs_background": "light"
          }
        }
      ]
    },
    {
      "cell_type": "markdown",
      "metadata": {
        "id": "28nXLnxGe-_O"
      },
      "source": [
        "Así, se observa que, a primera vista, la relación entre las variables explicativas y la variable dependiente es negativa en ambos casos, es decir, que entre más alto es el PIB per cápita menor es la tasa de mortalidad infantil y entre más alta es la tasa de alfabetización de las mujeres más baja es la tasa de mortalidad infantil.\r\n",
        "\r\n",
        "De este modo, el análisis de regresión que se llevará a cabo corresponde a la expresión $CM_i = \\beta_0+\\beta_{PGNP}PGNP_i+\\beta_{FLR}FLR_i+u_i$ y se espera que $\\beta_{PGNP}$ y $\\beta_{FLR}$ sean negativos.\r\n",
        "\r\n",
        "En primer lugar, se seleccionarán las variables correspondientes y se almacenarán en objetos específicos, de modo que se simplifique la notación empleada:"
      ]
    },
    {
      "cell_type": "code",
      "metadata": {
        "id": "peksO2lqhCU2"
      },
      "source": [
        "y = data[\"CM\"]\r\n",
        "X = data[[\"PGNP\", \"FLR\"]] "
      ],
      "execution_count": 9,
      "outputs": []
    },
    {
      "cell_type": "markdown",
      "metadata": {
        "id": "roLwufP6hTqd"
      },
      "source": [
        "Ahora, se emplearán los objetos como argumentos de la función $OLS(...)$ de *Statsmodels.api* para definir el modelo, se empleará el método `.fit()` para obtener los resultados de la estimación y se utilizará el método `.summary()` para obtener el resumen de la instancia de resultados:"
      ]
    },
    {
      "cell_type": "code",
      "metadata": {
        "id": "SyGy2XbciBB8",
        "colab": {
          "base_uri": "https://localhost:8080/"
        },
        "outputId": "0076b394-8927-458e-9799-9ec6dd762b11"
      },
      "source": [
        "# Se define el modelo:\r\n",
        "MiModelo = sm.OLS(y, X)\r\n",
        "\r\n",
        "# Se obtiene la estimación:\r\n",
        "Resultados = MiModelo.fit()\r\n",
        "\r\n",
        "# Se imprime el resumen de la instancia de resultados:\r\n",
        "print(Resultados.summary())"
      ],
      "execution_count": 10,
      "outputs": [
        {
          "output_type": "stream",
          "text": [
            "                                 OLS Regression Results                                \n",
            "=======================================================================================\n",
            "Dep. Variable:                     CM   R-squared (uncentered):                   0.387\n",
            "Model:                            OLS   Adj. R-squared (uncentered):              0.368\n",
            "Method:                 Least Squares   F-statistic:                              19.61\n",
            "Date:                Sun, 07 Feb 2021   Prob (F-statistic):                    2.52e-07\n",
            "Time:                        00:25:47   Log-Likelihood:                         -400.07\n",
            "No. Observations:                  64   AIC:                                      804.1\n",
            "Df Residuals:                      62   BIC:                                      808.5\n",
            "Df Model:                           2                                                  \n",
            "Covariance Type:            nonrobust                                                  \n",
            "==============================================================================\n",
            "                 coef    std err          t      P>|t|      [0.025      0.975]\n",
            "------------------------------------------------------------------------------\n",
            "PGNP          -0.0060      0.006     -0.974      0.334      -0.018       0.006\n",
            "FLR            1.8838      0.325      5.796      0.000       1.234       2.534\n",
            "==============================================================================\n",
            "Omnibus:                        7.742   Durbin-Watson:                   1.601\n",
            "Prob(Omnibus):                  0.021   Jarque-Bera (JB):                2.919\n",
            "Skew:                           0.161   Prob(JB):                        0.232\n",
            "Kurtosis:                       2.005   Cond. No.                         62.1\n",
            "==============================================================================\n",
            "\n",
            "Warnings:\n",
            "[1] Standard Errors assume that the covariance matrix of the errors is correctly specified.\n"
          ],
          "name": "stdout"
        }
      ]
    },
    {
      "cell_type": "markdown",
      "metadata": {
        "id": "fI1DDbcSiaYG"
      },
      "source": [
        "Se observa que solo uno de los coeficientes tiene el signo esperado. Sin embargo, antes de sacar conclusiones apresuradas a partir de este dudoso resultado, es necesario considerar un aspecto fundamental: la estimación no considera término del intercepto. \r\n",
        "\r\n",
        "La función `OLS(...)` de *Statsmodels.api* no incluye automáticamente un término de intercepto como parte de su proceso de estimación, por lo tanto, si la información usada como argumento de `X` no incluye una columna de unos, siempre se estará llevando a cabo una regresión a través del origen. De este modo, si se quiere incluir un $\\beta_0$ se puede crear una columna de unos en la matriz empleada como argumento o, alternativamente y de manera más simple, emplear la función `add_constant(...)` de *Statsmodels.api* que está específicamente diseñada para tal tarea:   "
      ]
    },
    {
      "cell_type": "code",
      "metadata": {
        "id": "3MmTYkN8lmh7",
        "colab": {
          "base_uri": "https://localhost:8080/"
        },
        "outputId": "f8084b20-4c79-42fc-caf1-767e3f505b3f"
      },
      "source": [
        "# Se incluye una constante (término del intercepto)\r\n",
        "# para no llevar a cabo regresión a través del origen\r\n",
        "MiModelo2 = sm.OLS(y, sm.add_constant(X))\r\n",
        "Resultados2 = MiModelo2.fit()\r\n",
        "print(Resultados2.summary())"
      ],
      "execution_count": 11,
      "outputs": [
        {
          "output_type": "stream",
          "text": [
            "                            OLS Regression Results                            \n",
            "==============================================================================\n",
            "Dep. Variable:                     CM   R-squared:                       0.708\n",
            "Model:                            OLS   Adj. R-squared:                  0.698\n",
            "Method:                 Least Squares   F-statistic:                     73.83\n",
            "Date:                Sun, 07 Feb 2021   Prob (F-statistic):           5.12e-17\n",
            "Time:                        00:25:47   Log-Likelihood:                -328.10\n",
            "No. Observations:                  64   AIC:                             662.2\n",
            "Df Residuals:                      61   BIC:                             668.7\n",
            "Df Model:                           2                                         \n",
            "Covariance Type:            nonrobust                                         \n",
            "==============================================================================\n",
            "                 coef    std err          t      P>|t|      [0.025      0.975]\n",
            "------------------------------------------------------------------------------\n",
            "const        263.6416     11.593     22.741      0.000     240.460     286.824\n",
            "PGNP          -0.0056      0.002     -2.819      0.006      -0.010      -0.002\n",
            "FLR           -2.2316      0.210    -10.629      0.000      -2.651      -1.812\n",
            "==============================================================================\n",
            "Omnibus:                        0.732   Durbin-Watson:                   2.186\n",
            "Prob(Omnibus):                  0.693   Jarque-Bera (JB):                0.559\n",
            "Skew:                           0.228   Prob(JB):                        0.756\n",
            "Kurtosis:                       2.949   Cond. No.                     6.77e+03\n",
            "==============================================================================\n",
            "\n",
            "Warnings:\n",
            "[1] Standard Errors assume that the covariance matrix of the errors is correctly specified.\n",
            "[2] The condition number is large, 6.77e+03. This might indicate that there are\n",
            "strong multicollinearity or other numerical problems.\n"
          ],
          "name": "stdout"
        }
      ]
    },
    {
      "cell_type": "markdown",
      "metadata": {
        "id": "6ZCdFvssl19z"
      },
      "source": [
        "Se observa que esta vez ambos coeficientes son negativos, como se espera, y que el término del intercepto \"const\" es estadísticamente significativo (incluso al 1%), por lo que no sería adecuado efectuar la estimación excluyéndolo (además, no es recomendable ignorar el término del intercepto si no existe una razón teórica válida para justificar su eliminación, en cuanto hacerlo obliga a la línea de regresión a pasar por un punto concreto afectando su ajuste óptimo a los datos).\r\n",
        "\r\n",
        "En el resumen de la instancia de resultados se observa no únicamente el valor de los parámetros asociados a las variables sino que también se tiene a disposición información adicional de relevancia, como los estadísticos *t*, los intervalos de confianza, el número de observaciones empleadas, el método de estimación y los resultados de algunas pruebas estadísticas básicas. Estos son solo algunos de los datos que ofrece la instancia de resultados generada; para acceder a toda la información de un objeto en Python se puede recurrir a la función nativa `dir(...)`, la cual permite conocer todos sus métodos y atributos."
      ]
    },
    {
      "cell_type": "code",
      "metadata": {
        "colab": {
          "base_uri": "https://localhost:8080/"
        },
        "id": "HxtUbowar2in",
        "outputId": "a364bb56-10a3-465f-fd27-fb69b50418cd"
      },
      "source": [
        "dir(Resultados2)"
      ],
      "execution_count": 12,
      "outputs": [
        {
          "output_type": "execute_result",
          "data": {
            "text/plain": [
              "['HC0_se',\n",
              " 'HC1_se',\n",
              " 'HC2_se',\n",
              " 'HC3_se',\n",
              " '_HCCM',\n",
              " '__class__',\n",
              " '__delattr__',\n",
              " '__dict__',\n",
              " '__dir__',\n",
              " '__doc__',\n",
              " '__eq__',\n",
              " '__format__',\n",
              " '__ge__',\n",
              " '__getattribute__',\n",
              " '__gt__',\n",
              " '__hash__',\n",
              " '__init__',\n",
              " '__init_subclass__',\n",
              " '__le__',\n",
              " '__lt__',\n",
              " '__module__',\n",
              " '__ne__',\n",
              " '__new__',\n",
              " '__reduce__',\n",
              " '__reduce_ex__',\n",
              " '__repr__',\n",
              " '__setattr__',\n",
              " '__sizeof__',\n",
              " '__str__',\n",
              " '__subclasshook__',\n",
              " '__weakref__',\n",
              " '_cache',\n",
              " '_data_attr',\n",
              " '_get_robustcov_results',\n",
              " '_is_nested',\n",
              " '_wexog_singular_values',\n",
              " 'aic',\n",
              " 'bic',\n",
              " 'bse',\n",
              " 'centered_tss',\n",
              " 'compare_f_test',\n",
              " 'compare_lm_test',\n",
              " 'compare_lr_test',\n",
              " 'condition_number',\n",
              " 'conf_int',\n",
              " 'conf_int_el',\n",
              " 'cov_HC0',\n",
              " 'cov_HC1',\n",
              " 'cov_HC2',\n",
              " 'cov_HC3',\n",
              " 'cov_kwds',\n",
              " 'cov_params',\n",
              " 'cov_type',\n",
              " 'df_model',\n",
              " 'df_resid',\n",
              " 'diagn',\n",
              " 'eigenvals',\n",
              " 'el_test',\n",
              " 'ess',\n",
              " 'f_pvalue',\n",
              " 'f_test',\n",
              " 'fittedvalues',\n",
              " 'fvalue',\n",
              " 'get_influence',\n",
              " 'get_prediction',\n",
              " 'get_robustcov_results',\n",
              " 'initialize',\n",
              " 'k_constant',\n",
              " 'llf',\n",
              " 'load',\n",
              " 'model',\n",
              " 'mse_model',\n",
              " 'mse_resid',\n",
              " 'mse_total',\n",
              " 'nobs',\n",
              " 'normalized_cov_params',\n",
              " 'outlier_test',\n",
              " 'params',\n",
              " 'predict',\n",
              " 'pvalues',\n",
              " 'remove_data',\n",
              " 'resid',\n",
              " 'resid_pearson',\n",
              " 'rsquared',\n",
              " 'rsquared_adj',\n",
              " 'save',\n",
              " 'scale',\n",
              " 'ssr',\n",
              " 'summary',\n",
              " 'summary2',\n",
              " 't_test',\n",
              " 't_test_pairwise',\n",
              " 'tvalues',\n",
              " 'uncentered_tss',\n",
              " 'use_t',\n",
              " 'wald_test',\n",
              " 'wald_test_terms',\n",
              " 'wresid']"
            ]
          },
          "metadata": {
            "tags": []
          },
          "execution_count": 12
        }
      ]
    },
    {
      "cell_type": "markdown",
      "metadata": {
        "id": "Eh_bTskGr51P"
      },
      "source": [
        "De este modo, se observa que `.summary()` es tan solo uno de los métodos y atributos de los objetos de tipo `statsmodels.regression.linear_model.RegressionResultsWrapper`, cada uno de los cuales ofrece información o funcionalidades específicas. Por ejemplo, `.rsquared` es un atributo de este tipo de objetos que corresponde al coeficiente de determinación múltiple o $R^2$: "
      ]
    },
    {
      "cell_type": "code",
      "metadata": {
        "colab": {
          "base_uri": "https://localhost:8080/"
        },
        "id": "8ZyYDNYxr5Ex",
        "outputId": "22bab53e-3ea9-49f7-d329-9c0b7833916e"
      },
      "source": [
        "print(\"El R2 es: \", Resultados2.rsquared)"
      ],
      "execution_count": 13,
      "outputs": [
        {
          "output_type": "stream",
          "text": [
            "El R2 es:  0.7076654981900712\n"
          ],
          "name": "stdout"
        }
      ]
    },
    {
      "cell_type": "markdown",
      "metadata": {
        "id": "1_4J1WNttBBl"
      },
      "source": [
        "Este dato se puede observar en el resumen de la instancia de resultados del modelo, pero también está almacenado de forma individual como el atributo `.rsquared`. Lo mismo ocurre con los coeficientes, los cuales se presentan en el resumen de la instancia de resultados pero también están almacenados como un atributo específico: "
      ]
    },
    {
      "cell_type": "code",
      "metadata": {
        "colab": {
          "base_uri": "https://localhost:8080/"
        },
        "id": "RpYWz1C0tznV",
        "outputId": "8b2d4257-5351-4eb9-bc17-02282f0ae120"
      },
      "source": [
        "print(\"Los coeficientes obtenidos son:\\n\", Resultados2.params)"
      ],
      "execution_count": 14,
      "outputs": [
        {
          "output_type": "stream",
          "text": [
            "Los coeficientes obtenidos son:\n",
            " const    263.641586\n",
            "PGNP      -0.005647\n",
            "FLR       -2.231586\n",
            "dtype: float64\n"
          ],
          "name": "stdout"
        }
      ]
    },
    {
      "cell_type": "markdown",
      "metadata": {
        "id": "0b3TJgSWuJhz"
      },
      "source": [
        "Como se mencionó de forma previa, `dir(...)` es una función *built in* que permite conocer los métodos y atributos de un objeto; hasta el momento, solo se han explorado dos atributos de las instancias de resultados de un modelo estimado por MCO, sin embargo, también se puede hacer uso de métodos, es decir, funciones asociadas a un tipo de objeto en específico.\r\n",
        "\r\n",
        "A modo de ejemplo, `.get_robustcov_results()` es un método de las instancias de resultado cuya aplicación permite efectuar una estimación robusta (empleando una matriz HC1 como valor por defecto):"
      ]
    },
    {
      "cell_type": "code",
      "metadata": {
        "colab": {
          "base_uri": "https://localhost:8080/"
        },
        "id": "ykrsGkYvvFzB",
        "outputId": "af952741-44ba-4fe0-d11b-b58650aec55f"
      },
      "source": [
        "Resultados2_robustos = Resultados2.get_robustcov_results()\r\n",
        "print(Resultados2_robustos.summary())"
      ],
      "execution_count": 15,
      "outputs": [
        {
          "output_type": "stream",
          "text": [
            "                            OLS Regression Results                            \n",
            "==============================================================================\n",
            "Dep. Variable:                     CM   R-squared:                       0.708\n",
            "Model:                            OLS   Adj. R-squared:                  0.698\n",
            "Method:                 Least Squares   F-statistic:                     93.06\n",
            "Date:                Sun, 07 Feb 2021   Prob (F-statistic):           2.94e-19\n",
            "Time:                        00:25:47   Log-Likelihood:                -328.10\n",
            "No. Observations:                  64   AIC:                             662.2\n",
            "Df Residuals:                      61   BIC:                             668.7\n",
            "Df Model:                           2                                         \n",
            "Covariance Type:                  HC1                                         \n",
            "==============================================================================\n",
            "                 coef    std err          t      P>|t|      [0.025      0.975]\n",
            "------------------------------------------------------------------------------\n",
            "const        263.6416     11.983     22.002      0.000     239.681     287.602\n",
            "PGNP          -0.0056      0.001     -4.788      0.000      -0.008      -0.003\n",
            "FLR           -2.2316      0.194    -11.516      0.000      -2.619      -1.844\n",
            "==============================================================================\n",
            "Omnibus:                        0.732   Durbin-Watson:                   2.186\n",
            "Prob(Omnibus):                  0.693   Jarque-Bera (JB):                0.559\n",
            "Skew:                           0.228   Prob(JB):                        0.756\n",
            "Kurtosis:                       2.949   Cond. No.                     6.77e+03\n",
            "==============================================================================\n",
            "\n",
            "Warnings:\n",
            "[1] Standard Errors are heteroscedasticity robust (HC1)\n",
            "[2] The condition number is large, 6.77e+03. This might indicate that there are\n",
            "strong multicollinearity or other numerical problems.\n"
          ],
          "name": "stdout"
        }
      ]
    },
    {
      "cell_type": "markdown",
      "metadata": {
        "id": "a9UvOX26vtAz"
      },
      "source": [
        "De este modo, se observa que la función `OLS(...)` es una poderosa herramienta de *Statsmodels.api* que permite llevar a cabo estimación por MCO y que ofrece información muy valiosa asociada a ésta a través de los métodos y atributos de los objetos generados a partir de la misma. \r\n",
        "\r\n",
        "Por último, como cierre, se contrastarán los resultados obtenidos con la función especializada `OLS(...)` de *Statsmodels.api* y la función propia `EstimadoresMCO(...)`creada con anterioridad: "
      ]
    },
    {
      "cell_type": "code",
      "metadata": {
        "colab": {
          "base_uri": "https://localhost:8080/",
          "height": 138
        },
        "id": "3qfWN9_9ynQc",
        "outputId": "72ec114b-6204-425e-a945-7354bc8d06e4"
      },
      "source": [
        "y = data[\"CM\"]\r\n",
        "EstimadoresMCO(sm.add_constant(X), y)"
      ],
      "execution_count": 16,
      "outputs": [
        {
          "output_type": "execute_result",
          "data": {
            "text/html": [
              "<div>\n",
              "<style scoped>\n",
              "    .dataframe tbody tr th:only-of-type {\n",
              "        vertical-align: middle;\n",
              "    }\n",
              "\n",
              "    .dataframe tbody tr th {\n",
              "        vertical-align: top;\n",
              "    }\n",
              "\n",
              "    .dataframe thead th {\n",
              "        text-align: right;\n",
              "    }\n",
              "</style>\n",
              "<table border=\"1\" class=\"dataframe\">\n",
              "  <thead>\n",
              "    <tr style=\"text-align: right;\">\n",
              "      <th></th>\n",
              "      <th>Estimadores</th>\n",
              "    </tr>\n",
              "  </thead>\n",
              "  <tbody>\n",
              "    <tr>\n",
              "      <th>const</th>\n",
              "      <td>263.641586</td>\n",
              "    </tr>\n",
              "    <tr>\n",
              "      <th>PGNP</th>\n",
              "      <td>-0.005647</td>\n",
              "    </tr>\n",
              "    <tr>\n",
              "      <th>FLR</th>\n",
              "      <td>-2.231586</td>\n",
              "    </tr>\n",
              "  </tbody>\n",
              "</table>\n",
              "</div>"
            ],
            "text/plain": [
              "       Estimadores\n",
              "const   263.641586\n",
              "PGNP     -0.005647\n",
              "FLR      -2.231586"
            ]
          },
          "metadata": {
            "tags": []
          },
          "execution_count": 16
        }
      ]
    },
    {
      "cell_type": "markdown",
      "metadata": {
        "id": "2kmtYs0HzM72"
      },
      "source": [
        "Al contrastar con los valores obtenidos de la función `OLS(...)` de *Statsmodels.api* se observa que son idénticos hasta 6 posiciones decimales: "
      ]
    },
    {
      "cell_type": "code",
      "metadata": {
        "colab": {
          "base_uri": "https://localhost:8080/",
          "height": 138
        },
        "id": "iP0K_0NuyvoQ",
        "outputId": "4b120b0c-7075-4d47-891c-a15832e66163"
      },
      "source": [
        "# Almacenar los resultados generados por la función propia\r\n",
        "# en un objeto:\r\n",
        "Estimadores_Propios = EstimadoresMCO(sm.add_constant(X), y)\r\n",
        "\r\n",
        "# Renombrar la columna:\r\n",
        "Estimadores_Propios.rename(columns = {\"Estimadores\": \"Estimadores Función Propia\"}, \r\n",
        "                           inplace = True)\r\n",
        "\r\n",
        "# Almacenar los valores de los coeficientes\r\n",
        "# estimados por OLS(...) de Statsmodels.api en\r\n",
        "# un DataFrame de pandas:\r\n",
        "Estimadores_Statsmodels = pd.DataFrame(Resultados2.params, \r\n",
        "                                       columns = [\"Estimadores Función de Statsmodels\"])\r\n",
        "\r\n",
        "# Concatenar los dataframes para contrastar:\r\n",
        "pd.concat([Estimadores_Propios, Estimadores_Statsmodels], axis = 1)"
      ],
      "execution_count": 17,
      "outputs": [
        {
          "output_type": "execute_result",
          "data": {
            "text/html": [
              "<div>\n",
              "<style scoped>\n",
              "    .dataframe tbody tr th:only-of-type {\n",
              "        vertical-align: middle;\n",
              "    }\n",
              "\n",
              "    .dataframe tbody tr th {\n",
              "        vertical-align: top;\n",
              "    }\n",
              "\n",
              "    .dataframe thead th {\n",
              "        text-align: right;\n",
              "    }\n",
              "</style>\n",
              "<table border=\"1\" class=\"dataframe\">\n",
              "  <thead>\n",
              "    <tr style=\"text-align: right;\">\n",
              "      <th></th>\n",
              "      <th>Estimadores Función Propia</th>\n",
              "      <th>Estimadores Función de Statsmodels</th>\n",
              "    </tr>\n",
              "  </thead>\n",
              "  <tbody>\n",
              "    <tr>\n",
              "      <th>const</th>\n",
              "      <td>263.641586</td>\n",
              "      <td>263.641586</td>\n",
              "    </tr>\n",
              "    <tr>\n",
              "      <th>PGNP</th>\n",
              "      <td>-0.005647</td>\n",
              "      <td>-0.005647</td>\n",
              "    </tr>\n",
              "    <tr>\n",
              "      <th>FLR</th>\n",
              "      <td>-2.231586</td>\n",
              "      <td>-2.231586</td>\n",
              "    </tr>\n",
              "  </tbody>\n",
              "</table>\n",
              "</div>"
            ],
            "text/plain": [
              "       Estimadores Función Propia  Estimadores Función de Statsmodels\n",
              "const                  263.641586                          263.641586\n",
              "PGNP                    -0.005647                           -0.005647\n",
              "FLR                     -2.231586                           -2.231586"
            ]
          },
          "metadata": {
            "tags": []
          },
          "execution_count": 17
        }
      ]
    },
    {
      "cell_type": "markdown",
      "metadata": {
        "id": "EXFP-mULilXW"
      },
      "source": [
        "## Referencias:\r\n",
        "\r\n",
        "Gujarati, D.N. y Porter, D.C. (2010). *Econometría*. México: McGraw-Hill/Interamericana Editores, S.A. de C.V.\r\n",
        "\r\n",
        "Greene, W.H. (2003). *Econometric Analysis*. New Jersey, Estados Unidos: Pearson Education, Inc."
      ]
    }
  ]
}