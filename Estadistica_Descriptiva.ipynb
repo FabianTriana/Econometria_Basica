{
  "nbformat": 4,
  "nbformat_minor": 0,
  "metadata": {
    "colab": {
      "name": "Estadistica_Descriptiva.ipynb",
      "provenance": [],
      "toc_visible": true
    },
    "kernelspec": {
      "name": "python3",
      "display_name": "Python 3"
    }
  },
  "cells": [
    {
      "cell_type": "markdown",
      "metadata": {
        "id": "tZWurW92YdWE"
      },
      "source": [
        "# Econometría básica con Python\r\n",
        "## Estadística descriptiva\r\n",
        "\r\n",
        "**Fabián Alejandro Triana Alarcón**\r\n",
        "\r\n",
        "fatrianaa1@gmail.com / fatrianaa@unal.edu.co\r\n",
        "\r\n",
        "Economista. Estudiante de Especialización en Estadística\r\n",
        "\r\n",
        "Universidad Nacional de Colombia\r\n"
      ]
    },
    {
      "cell_type": "markdown",
      "metadata": {
        "id": "q_Sdkj3XY8Ae"
      },
      "source": [
        "## Preparación del entorno:\r\n",
        "Antes de iniciar con la ejecución de las tareas planeadas, se debe contar con las herramientas requeridas en dicho proceso; para esto, se debe llevar a cabo la importación de las librerías *pandas* (datos y resúmenes estadísticos básicos), *NumPy* (matemática), *matplotlib* (gráficos) y *Seaborn* (gráficos especializados en estadística).\r\n",
        "\r\n",
        "La importación se efectúa empleando la palabra reservada `import` y la asignación de un alias (que permite identificar fácilmente cada librería y aumentar la legibilidad del código) se lleva a cabo con la palabra reservada `as`:"
      ]
    },
    {
      "cell_type": "code",
      "metadata": {
        "id": "iWnLTW7aYYu8"
      },
      "source": [
        "import pandas as pd\r\n",
        "import numpy as np\r\n",
        "import matplotlib.pyplot as plt\r\n",
        "import seaborn as sns"
      ],
      "execution_count": 1,
      "outputs": []
    },
    {
      "cell_type": "markdown",
      "metadata": {
        "id": "ScJCYUzlaco1"
      },
      "source": [
        "## Importación de los datos:\r\n",
        "\r\n",
        "Las funciones de la familia **`read_...(...)`** de *pandas* permiten importar datos en distintos formatos (.csv, .txt, .xls, etc). En este caso, se trata de un archivo .txt que está delimitado por espacio de tabulador (el cual se identifica como \"\\t\"):"
      ]
    },
    {
      "cell_type": "code",
      "metadata": {
        "id": "rR8aTSQHbR4Y"
      },
      "source": [
        "data = pd.read_csv(\"GujaratiPorter71.txt\", delimiter=\"\\t\")"
      ],
      "execution_count": 2,
      "outputs": []
    },
    {
      "cell_type": "markdown",
      "metadata": {
        "id": "fvMSYQ-jbeRa"
      },
      "source": [
        "El dataset que se emplea es el del Ejemplo 7.1, *Mortalidad infantil en relación con el PIB per cápita y la tasa de alfabetización de las mujeres*, de **Gujarati y Porter** (2010). \r\n",
        "\r\n",
        "El objeto generado por la función `read_csv(...)` de *pandas* es un `DataFrame`, el cual cuenta con sus propios métodos y atributos. Uno de estos métodos es `.head()`, el cual permite visualizar las primeras filas (las primeras 5, por defecto) del `DataFrame`:\r\n"
      ]
    },
    {
      "cell_type": "code",
      "metadata": {
        "id": "FBUSLZYHbU-T",
        "colab": {
          "base_uri": "https://localhost:8080/",
          "height": 198
        },
        "outputId": "c4ae55bb-031d-4fd3-c4f0-2d81850f46d9"
      },
      "source": [
        "data.head()"
      ],
      "execution_count": 3,
      "outputs": [
        {
          "output_type": "execute_result",
          "data": {
            "text/html": [
              "<div>\n",
              "<style scoped>\n",
              "    .dataframe tbody tr th:only-of-type {\n",
              "        vertical-align: middle;\n",
              "    }\n",
              "\n",
              "    .dataframe tbody tr th {\n",
              "        vertical-align: top;\n",
              "    }\n",
              "\n",
              "    .dataframe thead th {\n",
              "        text-align: right;\n",
              "    }\n",
              "</style>\n",
              "<table border=\"1\" class=\"dataframe\">\n",
              "  <thead>\n",
              "    <tr style=\"text-align: right;\">\n",
              "      <th></th>\n",
              "      <th>CM</th>\n",
              "      <th>FLR</th>\n",
              "      <th>PGNP</th>\n",
              "      <th>TFR</th>\n",
              "    </tr>\n",
              "  </thead>\n",
              "  <tbody>\n",
              "    <tr>\n",
              "      <th>0</th>\n",
              "      <td>128</td>\n",
              "      <td>37</td>\n",
              "      <td>1870</td>\n",
              "      <td>6.66</td>\n",
              "    </tr>\n",
              "    <tr>\n",
              "      <th>1</th>\n",
              "      <td>204</td>\n",
              "      <td>22</td>\n",
              "      <td>130</td>\n",
              "      <td>6.15</td>\n",
              "    </tr>\n",
              "    <tr>\n",
              "      <th>2</th>\n",
              "      <td>202</td>\n",
              "      <td>16</td>\n",
              "      <td>310</td>\n",
              "      <td>7.00</td>\n",
              "    </tr>\n",
              "    <tr>\n",
              "      <th>3</th>\n",
              "      <td>197</td>\n",
              "      <td>65</td>\n",
              "      <td>570</td>\n",
              "      <td>6.25</td>\n",
              "    </tr>\n",
              "    <tr>\n",
              "      <th>4</th>\n",
              "      <td>96</td>\n",
              "      <td>76</td>\n",
              "      <td>2050</td>\n",
              "      <td>3.81</td>\n",
              "    </tr>\n",
              "  </tbody>\n",
              "</table>\n",
              "</div>"
            ],
            "text/plain": [
              "    CM  FLR  PGNP   TFR\n",
              "0  128   37  1870  6.66\n",
              "1  204   22   130  6.15\n",
              "2  202   16   310  7.00\n",
              "3  197   65   570  6.25\n",
              "4   96   76  2050  3.81"
            ]
          },
          "metadata": {
            "tags": []
          },
          "execution_count": 3
        }
      ]
    },
    {
      "cell_type": "markdown",
      "metadata": {
        "id": "fgLWg5kzcTiK"
      },
      "source": [
        "## Estadística descriptiva:\r\n",
        "Antes de llevar a cabo tareas que involucren el uso de los datos para entrenar algoritmos, realizar estimaciones, efectuar cálculos, etc., es indispensable tener una idea clara sobre sus características, de modo que se identifiquen potenciales problemas y se reduzca la probabilidad de cometer equivocaciones por un uso inadecuado de la información disponible.\r\n",
        "\r\n",
        "En primer lugar, como parte de las tareas de reconocimiento de los datos, es útil conocer cuánta información se tiene; en el caso de una tabla, identificar cuántas filas y columnas forman el dataset y la naturaleza de los datos que almacenan.\r\n",
        "\r\n",
        "Para conocer las dimensiones del `DataFrame` puede recurrirse al el atributo `.shape`:"
      ]
    },
    {
      "cell_type": "code",
      "metadata": {
        "id": "jFPLiXjJdgAO",
        "colab": {
          "base_uri": "https://localhost:8080/"
        },
        "outputId": "4ec93edf-5f21-456b-e979-4ceee2453576"
      },
      "source": [
        "data.shape"
      ],
      "execution_count": 4,
      "outputs": [
        {
          "output_type": "execute_result",
          "data": {
            "text/plain": [
              "(64, 4)"
            ]
          },
          "metadata": {
            "tags": []
          },
          "execution_count": 4
        }
      ]
    },
    {
      "cell_type": "markdown",
      "metadata": {
        "id": "CMTQUCdudhPm"
      },
      "source": [
        "El resultado de la aplicación del atributo `.shape` es una tupla Python **(...)** en la que se informa el número de filas y de columnas (en ese orden) que tiene el `DataFrame`; así, nuestro dataset contiene 64 filas y 4 columnas.\r\n",
        "\r\n",
        "Ahora, sabemos que son 4 columnas, pero ¿cómo se llaman? ¿cuál es el nombre de cada una de estas 4 columnas? Cuando se ha aplicado el método `.head()` se han visualizado las primeras observaciones del dataset, incluyendo el encabezado en el que se encuentran los nombres de las columnas; sin embargo, si específicamente se quiere saber el nombre de las columnas, puede emplearse el atributo `.columns`:"
      ]
    },
    {
      "cell_type": "code",
      "metadata": {
        "id": "9J02q3CLd0KL",
        "colab": {
          "base_uri": "https://localhost:8080/"
        },
        "outputId": "dba73be3-629b-4276-dcc7-7f1f2dc9c125"
      },
      "source": [
        "data.columns"
      ],
      "execution_count": 5,
      "outputs": [
        {
          "output_type": "execute_result",
          "data": {
            "text/plain": [
              "Index(['CM', 'FLR', 'PGNP', 'TFR'], dtype='object')"
            ]
          },
          "metadata": {
            "tags": []
          },
          "execution_count": 5
        }
      ]
    },
    {
      "cell_type": "markdown",
      "metadata": {
        "id": "YRVGfSo0d1dR"
      },
      "source": [
        "Con toda la información obtenida se sabe que el dataset con el que se trabajará tiene 64 filas y 4 columnas, y que los nombres de las columnas son \"CM\", \"FLR\", \"PGNP\" y \"TFR\". Sin embargo, aún se desconoce qué tipo de datos contienen dichas columnas, ¿se trata de palabras? ¿de números? ¿solo números enteros? Para descubrirlo, puede emplearse el atributo `.dtypes`:"
      ]
    },
    {
      "cell_type": "code",
      "metadata": {
        "colab": {
          "base_uri": "https://localhost:8080/"
        },
        "id": "rV4fHGYuji1d",
        "outputId": "e99806a2-062c-4f55-b7d0-97f421b8da8b"
      },
      "source": [
        "data.dtypes"
      ],
      "execution_count": 6,
      "outputs": [
        {
          "output_type": "execute_result",
          "data": {
            "text/plain": [
              "CM        int64\n",
              "FLR       int64\n",
              "PGNP      int64\n",
              "TFR     float64\n",
              "dtype: object"
            ]
          },
          "metadata": {
            "tags": []
          },
          "execution_count": 6
        }
      ]
    },
    {
      "cell_type": "markdown",
      "metadata": {
        "id": "H62KMwhyd_kS"
      },
      "source": [
        "La información generada por el atributo `.dtypes` indica que tres variables (columnas) contienen datos de tipo `int64` (número entero) y una de tipo `float64` (número decimal).\r\n",
        "\r\n",
        "Finalmente, una manera de obtener la información que se halla con la aplicación de los tres atributos apenas descritos es el método `.info()`, el cual permite visualizarlos en un único espacio:"
      ]
    },
    {
      "cell_type": "code",
      "metadata": {
        "id": "iItEcEFmePt4",
        "colab": {
          "base_uri": "https://localhost:8080/"
        },
        "outputId": "fdf56d8e-2971-4b53-fa23-060048a9b0e4"
      },
      "source": [
        "data.info()"
      ],
      "execution_count": 7,
      "outputs": [
        {
          "output_type": "stream",
          "text": [
            "<class 'pandas.core.frame.DataFrame'>\n",
            "RangeIndex: 64 entries, 0 to 63\n",
            "Data columns (total 4 columns):\n",
            " #   Column  Non-Null Count  Dtype  \n",
            "---  ------  --------------  -----  \n",
            " 0   CM      64 non-null     int64  \n",
            " 1   FLR     64 non-null     int64  \n",
            " 2   PGNP    64 non-null     int64  \n",
            " 3   TFR     64 non-null     float64\n",
            "dtypes: float64(1), int64(3)\n",
            "memory usage: 2.1 KB\n"
          ],
          "name": "stdout"
        }
      ]
    },
    {
      "cell_type": "markdown",
      "metadata": {
        "id": "FKBt75CueRNt"
      },
      "source": [
        "El resultado de la aplicación de este método es tan solo un resumen de la información que hemos obtenido previamente. Adicionalmente, se presenta el dato sobre el uso de memoria asociado, que en este caso es de 2.1 Kb; el tipo de objeto al que corresponde el dataset, el cual es un `DataFrame` de *pandas*; y el rango del índice, el cual corresponde al intervalo $[0,63]$ (es muy importante tener en cuenta que la indización en Python inicia desde 0 y no desde 1).\r\n",
        "\r\n",
        "Para obtener estadística descriptiva de las variables numéricas del dataset se puede recurrir al método `.describe()`:"
      ]
    },
    {
      "cell_type": "code",
      "metadata": {
        "id": "03OyVKWneiz5",
        "colab": {
          "base_uri": "https://localhost:8080/",
          "height": 288
        },
        "outputId": "bd3490a6-d902-4b49-c269-2c55d9abfd3f"
      },
      "source": [
        "data.describe()"
      ],
      "execution_count": 8,
      "outputs": [
        {
          "output_type": "execute_result",
          "data": {
            "text/html": [
              "<div>\n",
              "<style scoped>\n",
              "    .dataframe tbody tr th:only-of-type {\n",
              "        vertical-align: middle;\n",
              "    }\n",
              "\n",
              "    .dataframe tbody tr th {\n",
              "        vertical-align: top;\n",
              "    }\n",
              "\n",
              "    .dataframe thead th {\n",
              "        text-align: right;\n",
              "    }\n",
              "</style>\n",
              "<table border=\"1\" class=\"dataframe\">\n",
              "  <thead>\n",
              "    <tr style=\"text-align: right;\">\n",
              "      <th></th>\n",
              "      <th>CM</th>\n",
              "      <th>FLR</th>\n",
              "      <th>PGNP</th>\n",
              "      <th>TFR</th>\n",
              "    </tr>\n",
              "  </thead>\n",
              "  <tbody>\n",
              "    <tr>\n",
              "      <th>count</th>\n",
              "      <td>64.000000</td>\n",
              "      <td>64.000000</td>\n",
              "      <td>64.000000</td>\n",
              "      <td>64.000000</td>\n",
              "    </tr>\n",
              "    <tr>\n",
              "      <th>mean</th>\n",
              "      <td>141.500000</td>\n",
              "      <td>51.187500</td>\n",
              "      <td>1401.250000</td>\n",
              "      <td>5.549687</td>\n",
              "    </tr>\n",
              "    <tr>\n",
              "      <th>std</th>\n",
              "      <td>75.978067</td>\n",
              "      <td>26.007859</td>\n",
              "      <td>2725.695775</td>\n",
              "      <td>1.508993</td>\n",
              "    </tr>\n",
              "    <tr>\n",
              "      <th>min</th>\n",
              "      <td>12.000000</td>\n",
              "      <td>9.000000</td>\n",
              "      <td>120.000000</td>\n",
              "      <td>1.690000</td>\n",
              "    </tr>\n",
              "    <tr>\n",
              "      <th>25%</th>\n",
              "      <td>82.000000</td>\n",
              "      <td>29.000000</td>\n",
              "      <td>300.000000</td>\n",
              "      <td>4.607500</td>\n",
              "    </tr>\n",
              "    <tr>\n",
              "      <th>50%</th>\n",
              "      <td>138.500000</td>\n",
              "      <td>48.000000</td>\n",
              "      <td>620.000000</td>\n",
              "      <td>6.040000</td>\n",
              "    </tr>\n",
              "    <tr>\n",
              "      <th>75%</th>\n",
              "      <td>192.500000</td>\n",
              "      <td>77.250000</td>\n",
              "      <td>1317.500000</td>\n",
              "      <td>6.615000</td>\n",
              "    </tr>\n",
              "    <tr>\n",
              "      <th>max</th>\n",
              "      <td>312.000000</td>\n",
              "      <td>95.000000</td>\n",
              "      <td>19830.000000</td>\n",
              "      <td>8.490000</td>\n",
              "    </tr>\n",
              "  </tbody>\n",
              "</table>\n",
              "</div>"
            ],
            "text/plain": [
              "               CM        FLR          PGNP        TFR\n",
              "count   64.000000  64.000000     64.000000  64.000000\n",
              "mean   141.500000  51.187500   1401.250000   5.549687\n",
              "std     75.978067  26.007859   2725.695775   1.508993\n",
              "min     12.000000   9.000000    120.000000   1.690000\n",
              "25%     82.000000  29.000000    300.000000   4.607500\n",
              "50%    138.500000  48.000000    620.000000   6.040000\n",
              "75%    192.500000  77.250000   1317.500000   6.615000\n",
              "max    312.000000  95.000000  19830.000000   8.490000"
            ]
          },
          "metadata": {
            "tags": []
          },
          "execution_count": 8
        }
      ]
    },
    {
      "cell_type": "markdown",
      "metadata": {
        "id": "sTDb8dYVekXB"
      },
      "source": [
        "Tal y como observamos, el método `.describe()` nos permite obtener información estadística básica sobre las variables numéricas, lo que incluye, por ejemplo, el promedio, los valores máximo y mínimo y la desviación estándar. Así, se puede evidenciar, por ejemplo, que el valor mínimo de la variable \"CM\" es 12, el valor máximo de la variable \"PGNP\" es 19,830 y el promedio de la variable \"TFR\" corresponde a 5.55.\r\n",
        "\r\n",
        "Al aplicar el método `.describe()` sobre el `DataFrame` se obtiene, por defecto, información estadística básica de todas las variables numéricas presentes en éste. Si solo se está interesado en la información de una variable en particular, esta puede ser seleccionada por medio del uso de los corchetes [ ], indicando su nombre (entre comillas) dentro de estos.\r\n",
        "\r\n",
        "Así, si, por ejemplo, solo nos interesa la variable \"CM\", el código a emplear será el siguiente:"
      ]
    },
    {
      "cell_type": "code",
      "metadata": {
        "id": "Z2eLeaiQe3DI",
        "colab": {
          "base_uri": "https://localhost:8080/"
        },
        "outputId": "b034196d-2dc8-4aaf-c20f-b1a477c5d993"
      },
      "source": [
        "data[\"CM\"].describe()"
      ],
      "execution_count": 9,
      "outputs": [
        {
          "output_type": "execute_result",
          "data": {
            "text/plain": [
              "count     64.000000\n",
              "mean     141.500000\n",
              "std       75.978067\n",
              "min       12.000000\n",
              "25%       82.000000\n",
              "50%      138.500000\n",
              "75%      192.500000\n",
              "max      312.000000\n",
              "Name: CM, dtype: float64"
            ]
          },
          "metadata": {
            "tags": []
          },
          "execution_count": 9
        }
      ]
    },
    {
      "cell_type": "markdown",
      "metadata": {
        "id": "9CtyHRvZe4qa"
      },
      "source": [
        "Si, por el contrario, lo que nos interesa es un grupo de variables y no solo una, podemos seleccionarlo haciendo uso de los corchetes [ ] e incluyendo los nombres de las variables de interés (entre comillas, separados por comas) dentro de una **lista** Python […]:\r\n",
        "\r\n"
      ]
    },
    {
      "cell_type": "code",
      "metadata": {
        "id": "HbRxGHglfEQ8",
        "colab": {
          "base_uri": "https://localhost:8080/",
          "height": 288
        },
        "outputId": "e8e2d231-a552-4986-c1aa-9e79a7547084"
      },
      "source": [
        "data[[\"CM\", \"PGNP\", \"FLR\"]].describe()"
      ],
      "execution_count": 10,
      "outputs": [
        {
          "output_type": "execute_result",
          "data": {
            "text/html": [
              "<div>\n",
              "<style scoped>\n",
              "    .dataframe tbody tr th:only-of-type {\n",
              "        vertical-align: middle;\n",
              "    }\n",
              "\n",
              "    .dataframe tbody tr th {\n",
              "        vertical-align: top;\n",
              "    }\n",
              "\n",
              "    .dataframe thead th {\n",
              "        text-align: right;\n",
              "    }\n",
              "</style>\n",
              "<table border=\"1\" class=\"dataframe\">\n",
              "  <thead>\n",
              "    <tr style=\"text-align: right;\">\n",
              "      <th></th>\n",
              "      <th>CM</th>\n",
              "      <th>PGNP</th>\n",
              "      <th>FLR</th>\n",
              "    </tr>\n",
              "  </thead>\n",
              "  <tbody>\n",
              "    <tr>\n",
              "      <th>count</th>\n",
              "      <td>64.000000</td>\n",
              "      <td>64.000000</td>\n",
              "      <td>64.000000</td>\n",
              "    </tr>\n",
              "    <tr>\n",
              "      <th>mean</th>\n",
              "      <td>141.500000</td>\n",
              "      <td>1401.250000</td>\n",
              "      <td>51.187500</td>\n",
              "    </tr>\n",
              "    <tr>\n",
              "      <th>std</th>\n",
              "      <td>75.978067</td>\n",
              "      <td>2725.695775</td>\n",
              "      <td>26.007859</td>\n",
              "    </tr>\n",
              "    <tr>\n",
              "      <th>min</th>\n",
              "      <td>12.000000</td>\n",
              "      <td>120.000000</td>\n",
              "      <td>9.000000</td>\n",
              "    </tr>\n",
              "    <tr>\n",
              "      <th>25%</th>\n",
              "      <td>82.000000</td>\n",
              "      <td>300.000000</td>\n",
              "      <td>29.000000</td>\n",
              "    </tr>\n",
              "    <tr>\n",
              "      <th>50%</th>\n",
              "      <td>138.500000</td>\n",
              "      <td>620.000000</td>\n",
              "      <td>48.000000</td>\n",
              "    </tr>\n",
              "    <tr>\n",
              "      <th>75%</th>\n",
              "      <td>192.500000</td>\n",
              "      <td>1317.500000</td>\n",
              "      <td>77.250000</td>\n",
              "    </tr>\n",
              "    <tr>\n",
              "      <th>max</th>\n",
              "      <td>312.000000</td>\n",
              "      <td>19830.000000</td>\n",
              "      <td>95.000000</td>\n",
              "    </tr>\n",
              "  </tbody>\n",
              "</table>\n",
              "</div>"
            ],
            "text/plain": [
              "               CM          PGNP        FLR\n",
              "count   64.000000     64.000000  64.000000\n",
              "mean   141.500000   1401.250000  51.187500\n",
              "std     75.978067   2725.695775  26.007859\n",
              "min     12.000000    120.000000   9.000000\n",
              "25%     82.000000    300.000000  29.000000\n",
              "50%    138.500000    620.000000  48.000000\n",
              "75%    192.500000   1317.500000  77.250000\n",
              "max    312.000000  19830.000000  95.000000"
            ]
          },
          "metadata": {
            "tags": []
          },
          "execution_count": 10
        }
      ]
    },
    {
      "cell_type": "markdown",
      "metadata": {
        "id": "256At9OzfJm_"
      },
      "source": [
        "La función `pairplot(...)` de *Seaborn* resulta particularmente útil para el contexto en el que nos encontramos; esta función crea una cuadrilla en la que podremos visualizar la relación que existe entre pares de variables (por medio de diagramas de dispersión) y la distribución de cada una de estas (por medio de histogramas):"
      ]
    },
    {
      "cell_type": "code",
      "metadata": {
        "id": "BpWTWJgBfW7K",
        "colab": {
          "base_uri": "https://localhost:8080/",
          "height": 775
        },
        "outputId": "44a32f38-555d-4302-8601-62086aa8be69"
      },
      "source": [
        "\r\n",
        "g = sns.pairplot(data, plot_kws = {\"color\": \"darkblue\"}, \r\n",
        "             diag_kws = {\"color\":\"darkblue\"})\r\n",
        "g.fig.suptitle(\"Relación entre pares de variables\", \r\n",
        "               fontsize = 25, \r\n",
        "               fontweight = \"bold\")\r\n",
        "plt.subplots_adjust(top=0.9)\r\n",
        "g.fig.text(1,-.02,\r\n",
        "         \"Elaboración:\",\r\n",
        "          fontsize = 13, fontweight = \"bold\",\r\n",
        "          ha = \"right\")\r\n",
        "g.fig.text(1,-.05,\r\n",
        "         \"Triana, F.\",\r\n",
        "          fontsize = 12, ha = \"right\")\r\n",
        "plt.show()"
      ],
      "execution_count": 11,
      "outputs": [
        {
          "output_type": "display_data",
          "data": {
            "image/png": "[encoded data removed]",
            "text/plain": [
              "<Figure size 720x720 with 20 Axes>"
            ]
          },
          "metadata": {
            "tags": [],
            "needs_background": "light"
          }
        }
      ]
    },
    {
      "cell_type": "markdown",
      "metadata": {
        "id": "WKmKL1TnfkXh"
      },
      "source": [
        "En la diagonal se observa la distribución de cada una de las variables, mientras que en los diagramas de dispersión se encuentra la relación entre pares de estas; así, se puede observar que, por ejemplo, el ingreso se concentra en valores inferiores a 5000 y existe una relación negativa entre la tasa de alfabetización de las mujeres y la mortalidad infantil.\r\n",
        "\r\n",
        "En estos momentos ya se cuenta con información básica sobre las variables del dataset y hemos adelantado una breve inspección visual de las relaciones que se presentan entre estas; ahora, se puede hacer uso de este conocimiento para obtener expresiones más concretas de dichas relaciones, examinándolas desde un punto de vista un tanto más técnico: en la siguiente sección se abordará el tema de la regresión lineal por el método de Mínimos Cuadrados Ordinarios."
      ]
    }
  ]
}