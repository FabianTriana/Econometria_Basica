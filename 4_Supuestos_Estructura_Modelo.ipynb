{
  "nbformat": 4,
  "nbformat_minor": 0,
  "metadata": {
    "kernelspec": {
      "name": "python3",
      "display_name": "Python 3",
      "language": "python"
    },
    "language_info": {
      "mimetype": "text/x-python",
      "nbconvert_exporter": "python",
      "name": "python",
      "pygments_lexer": "ipython3",
      "version": "3.5.4",
      "file_extension": ".py",
      "codemirror_mode": {
        "version": 3,
        "name": "ipython"
      }
    },
    "colab": {
      "name": "4.Supuestos_Estructura_Modelo.ipynb",
      "provenance": [],
      "collapsed_sections": [],
      "toc_visible": true
    }
  },
  "cells": [
    {
      "cell_type": "markdown",
      "metadata": {
        "id": "Fb2RacDUYMMZ"
      },
      "source": [
        "# Econometría básica con Python\n",
        "## Supuestos sobre la estructura del modelo\n",
        "\n",
        "**Fabián Alejandro Triana Alarcón**\n",
        "\n",
        "fatrianaa1@gmail.com / fatrianaa@unal.edu.co\n",
        "\n",
        "Economista. Estudiante de Especialización en Estadística\n",
        "\n",
        "Universidad Nacional de Colombia"
      ]
    },
    {
      "cell_type": "markdown",
      "metadata": {
        "id": "coDc_aJgr3QT"
      },
      "source": [
        "## Teorema de Gauss-Markov\n",
        "\n",
        "Los estimadores de MCO presentan una serie de propiedades estadísticas atractivas dados unos supuestos;\n",
        "tal afirmación se sustenta en el **Teorema de Gauss-Markov**, el cual, siguiendo a Gujarati y Porter (2010), puede\n",
        "expresarse como: \"Dados los supuestos del modelo clásico de regresión lineal, los estimadores de mínimos\n",
        "cuadrados, dentro de la clase de estimadores lineales insesgados, tienen varianza mínima, es decir, son MELI\"\n",
        "(p. 72).\n",
        "\n",
        "MELI (BLUE en inglés) hace referencia a \"Mejores Estimadores Lineales Insesgados\" y es la calificación que\n",
        "adquieren los estimadores de MCO cuando se cumple con los supuestos del modelo clásico de regresión lineal,\n",
        "también conocido como modelo de Gauss o modelo estándar de regresión lineal.\n",
        "\n",
        "El modelo clásico de regresión lineal plantea, de acuerdo a Gujarati y Porter (2010), los siguientes supuestos:\n",
        "\n",
        "\n",
        "\n",
        "1.   Se trata de un modelo de regresión lineal, es decir, lineal en los parámetros.\n",
        "2.   Valores fijos de $x$ o valores de $x$ independientes del término de error. Esto significa que se requiere covarianza 0 entre $u_i$ y cada variable $x_{ji}$. Es decir $cov(u_i, x_{ji}) = 0$ $\\forall$ $i, j$\n",
        "3. Valor medio de la perturbación $u_i$ igual a 0. $E(u_i) = 0$ $\\forall$ $i$\n",
        "4. Homoscedasticidad o varianza constante de $u_i$. Esto es, $Var(u_i) = \\sigma^2$ $\\forall$ $i$\n",
        "5. No autocorrelación, o correlación serial, entre las perturbaciones. Es decir, $cov(u_i\n",
        ", u_j) = 0$ $\\forall$ $i \\neq j$\n",
        "6. El número de observaciones $n$ debe ser mayor que el de parámetros por estimar. Si se tiene $k$ variables\n",
        "explicativas (sin incluir el intercepto), entonces debe estimarse $k + 1$ parámetros (para una regresión\n",
        "con término del intercepto), por lo tanto, en tal caso, $n > k + 1$\n",
        "7. Debe haber variación en los valores de las variables $x$.\n",
        "8. No debe haber colinealidad exacta entre las variables $x$.\n",
        "9. No hay sesgo de especificación, es decir, el modelo está correctamente especificado.\n"
      ]
    },
    {
      "cell_type": "markdown",
      "metadata": {
        "id": "Cu9AaBRUvk_i"
      },
      "source": [
        "## Supuestos sobre la estructura del modelo:"
      ]
    },
    {
      "cell_type": "markdown",
      "metadata": {
        "id": "hCLhCO6Pvo7G"
      },
      "source": [
        "Al examinar los supuestos del modelo clásico de regresión lineal se observa que estos se pueden clasificar en dos categorías: supuestos sobre la estructura y supuestos sobre el término de error, en cuanto algunos de estos supuestos hacen referencia explícita a la ecuación y el comportamiento de los datos mientras otros tratan sobre la naturaleza de las perturbaciones. Es posible verificar el cumplimiento de algunos de estos supuestos en Python utilizando\n",
        "funciones propias de algunas librerías especializadas como *Statsmodels*.\n",
        "\n",
        "Se estimará un modelo de regresión lineal múltiple y se verificará el cumplimiento de los supuestos sobre\n",
        "la estructura del mismo. El dataset que se empleará será, al igual que en secciones previas, el del Ejemplo\n",
        "7.1, *Mortalidad infantil en relación con el PIB per cápita y la tasa de alfabetización de las mujeres*, de Gujarati y Porter (2010)."
      ]
    },
    {
      "cell_type": "markdown",
      "metadata": {
        "id": "vXQ6BLfsxAD5"
      },
      "source": [
        "### Preparación del entorno:\n",
        "\n",
        "En primer lugar, se procederá a importar las herramientas requeridas para llevar a cabo las tareas necesarias:"
      ]
    },
    {
      "cell_type": "code",
      "metadata": {
        "colab": {
          "base_uri": "https://localhost:8080/"
        },
        "id": "iZ06QyQ9w9dd",
        "outputId": "91c44e06-c89e-4e1a-92ee-644d42d67488"
      },
      "source": [
        "import numpy as np\n",
        "import pandas as pd\n",
        "import statsmodels.api as sm\n",
        "import statsmodels.stats.api as sms\n",
        "import matplotlib.pyplot as plt\n",
        "import seaborn as sns"
      ],
      "execution_count": 1,
      "outputs": [
        {
          "output_type": "stream",
          "text": [
            "/usr/local/lib/python3.7/dist-packages/statsmodels/tools/_testing.py:19: FutureWarning: pandas.util.testing is deprecated. Use the functions in the public API at pandas.testing instead.\n",
            "  import pandas.util.testing as tm\n"
          ],
          "name": "stderr"
        }
      ]
    },
    {
      "cell_type": "markdown",
      "metadata": {
        "id": "QhP4Wi9HyYUy"
      },
      "source": [
        "Todas las librerías importadas han sido empleadas en secciones previas exceptuando por una: *statsmodels.stats.api*. La importación de esta nueva librería es fundamental para nuestra labor, pues es donde están contenidas la mayoría de funciones que se emplearán, sin las cuales no sería posible verificar fácilmente el cumplimiento de los supuestos del modelo clásico de regresión lineal. En este punto hay que ser cuidadosos pues se importan tanto *statsmodels.api* como *statsmodels.stats.api*, lo que puede generar confusiones posteriores si no se tiene claridad sobre las mismas y el papel que desempeña cada una."
      ]
    },
    {
      "cell_type": "markdown",
      "metadata": {
        "id": "qq1zQhxEz1M-"
      },
      "source": [
        "### Importación de los datos:"
      ]
    },
    {
      "cell_type": "code",
      "metadata": {
        "colab": {
          "base_uri": "https://localhost:8080/",
          "height": 206
        },
        "id": "rMAPWjKvyURO",
        "outputId": "dd8a0978-f620-4b50-87ec-69760171f073"
      },
      "source": [
        "data = pd.read_csv(\"GujaratiPorter71.txt\", delimiter= \"\\t\")\n",
        "data.head()"
      ],
      "execution_count": 2,
      "outputs": [
        {
          "output_type": "execute_result",
          "data": {
            "text/html": [
              "<div>\n",
              "<style scoped>\n",
              "    .dataframe tbody tr th:only-of-type {\n",
              "        vertical-align: middle;\n",
              "    }\n",
              "\n",
              "    .dataframe tbody tr th {\n",
              "        vertical-align: top;\n",
              "    }\n",
              "\n",
              "    .dataframe thead th {\n",
              "        text-align: right;\n",
              "    }\n",
              "</style>\n",
              "<table border=\"1\" class=\"dataframe\">\n",
              "  <thead>\n",
              "    <tr style=\"text-align: right;\">\n",
              "      <th></th>\n",
              "      <th>CM</th>\n",
              "      <th>FLR</th>\n",
              "      <th>PGNP</th>\n",
              "      <th>TFR</th>\n",
              "    </tr>\n",
              "  </thead>\n",
              "  <tbody>\n",
              "    <tr>\n",
              "      <th>0</th>\n",
              "      <td>128</td>\n",
              "      <td>37</td>\n",
              "      <td>1870</td>\n",
              "      <td>6.66</td>\n",
              "    </tr>\n",
              "    <tr>\n",
              "      <th>1</th>\n",
              "      <td>204</td>\n",
              "      <td>22</td>\n",
              "      <td>130</td>\n",
              "      <td>6.15</td>\n",
              "    </tr>\n",
              "    <tr>\n",
              "      <th>2</th>\n",
              "      <td>202</td>\n",
              "      <td>16</td>\n",
              "      <td>310</td>\n",
              "      <td>7.00</td>\n",
              "    </tr>\n",
              "    <tr>\n",
              "      <th>3</th>\n",
              "      <td>197</td>\n",
              "      <td>65</td>\n",
              "      <td>570</td>\n",
              "      <td>6.25</td>\n",
              "    </tr>\n",
              "    <tr>\n",
              "      <th>4</th>\n",
              "      <td>96</td>\n",
              "      <td>76</td>\n",
              "      <td>2050</td>\n",
              "      <td>3.81</td>\n",
              "    </tr>\n",
              "  </tbody>\n",
              "</table>\n",
              "</div>"
            ],
            "text/plain": [
              "    CM  FLR  PGNP   TFR\n",
              "0  128   37  1870  6.66\n",
              "1  204   22   130  6.15\n",
              "2  202   16   310  7.00\n",
              "3  197   65   570  6.25\n",
              "4   96   76  2050  3.81"
            ]
          },
          "metadata": {
            "tags": []
          },
          "execution_count": 2
        }
      ]
    },
    {
      "cell_type": "markdown",
      "metadata": {
        "id": "aHb62XHw0fnN"
      },
      "source": [
        "El ``DataFrame`` contiene información de las siguientes variables:\n",
        "\n",
        "* **CM**. Esta variable hace referencia a *Child Mortality* y corresponde a la mortalidad infantil. Se trata del número de fallecimientos, en un año, de niños con una edad inferior a 5 años por cada 1000 nacidos vivos.\n",
        "\n",
        "* **FLR**. Esta variable hace referencia a *Female Literacy Rate* y corresponde a la tasa de alfabetización de las mujeres.\n",
        "\n",
        "* **PGNP** hace referencia a *Per cápita Gross National Product* y corresponde al PIB per cápita en 1980.\n",
        "\n",
        "* **TFR** hace referencia a *Total Fertility Rate* y corresponde a la tasa de fecundidad total."
      ]
    },
    {
      "cell_type": "markdown",
      "metadata": {
        "id": "mQvLnKPH1CI9"
      },
      "source": [
        "## Supuesto de número de observaciones mayor a número de parámetros (Supuesto #6)\n",
        "\n",
        "Uno de los supuestos sobre la estructura del modelo es que el número de observaciones ($n$) con el cual se realiza\n",
        "la estimación debe superar el número de parámetros ($\\beta$) a ser estimados. Si pretendemos trabajar con todas\n",
        "las observaciones del ``DataFrame``, basta con examinar sus dimensiones para determinar la cantidad máxima\n",
        "de parámetros que podría estimarse. Las dimensiones de un ``DataFrame`` corresponden al número de filas y\n",
        "columnas por los cuales está formado y pueden conocerse muy fácilmente: basta con emplear el atributo ``.shape``, así:"
      ]
    },
    {
      "cell_type": "code",
      "metadata": {
        "colab": {
          "base_uri": "https://localhost:8080/"
        },
        "id": "_ibzuydg1cgI",
        "outputId": "456af7d3-a14a-45d8-ba64-7cd9f4565434"
      },
      "source": [
        "data.shape"
      ],
      "execution_count": 3,
      "outputs": [
        {
          "output_type": "execute_result",
          "data": {
            "text/plain": [
              "(64, 4)"
            ]
          },
          "metadata": {
            "tags": []
          },
          "execution_count": 3
        }
      ]
    },
    {
      "cell_type": "markdown",
      "metadata": {
        "id": "IcoQ9ehc1iqr"
      },
      "source": [
        "El resultado que obtenemos es una tupla Python (...) que informa que nuestro ``DataFrame`` es de tamaño\n",
        "$64 \\times 4$, por lo que posee 64 filas y 4 columnas. Considerando que cada fila corresponde a una observación y\n",
        "cada columna a una variable, el número máximo de parámetros a estimar es 63.\n",
        "\n",
        "¿Qué sucede si el número de observaciones es inferior al número de parámetros a estimar? \"Si hay menos\n",
        "de $k$ observaciones entonces $X$ no puede ser de rango completo\" (Greene, 2003, p. 14). Debido a esto, cuando\n",
        "el número de parámetros a estimar excede el número de observaciones disponibles para hacer la estimación,\n",
        "se obtiene que la varianza es infinita, por lo cual el método MCO no puede emplearse (James, Witten, Hastie, y\n",
        "Tibshirani, 2013).\n",
        "\n",
        "A modo de ejemplo, se realizará una regresión de prueba, con fines puramente ilustrativos, en la que se\n",
        "usarán solo 3 observaciones para estimar 4 parámetros. Para esto, se seleccionarán únicamente las tres primeras\n",
        "observaciones del ``DataFrame`` recurriendo a los corchetes [ ]:"
      ]
    },
    {
      "cell_type": "code",
      "metadata": {
        "colab": {
          "base_uri": "https://localhost:8080/"
        },
        "id": "PEyu-ita2B2W",
        "outputId": "ebada666-f9ad-4973-9ff6-08f2e60c434a"
      },
      "source": [
        "Modelo_de_Prueba = sm.OLS(data[\"CM\"][0:3],sm.add_constant(data[[\"FLR\", \"PGNP\", \"TFR\"]][0:3]))\n",
        "Resultados_de_Prueba = Modelo_de_Prueba.fit()\n",
        "print(Resultados_de_Prueba.summary())"
      ],
      "execution_count": 4,
      "outputs": [
        {
          "output_type": "stream",
          "text": [
            "                            OLS Regression Results                            \n",
            "==============================================================================\n",
            "Dep. Variable:                     CM   R-squared:                       1.000\n",
            "Model:                            OLS   Adj. R-squared:                    nan\n",
            "Method:                 Least Squares   F-statistic:                     0.000\n",
            "Date:                Sun, 04 Apr 2021   Prob (F-statistic):                nan\n",
            "Time:                        22:57:03   Log-Likelihood:                 66.198\n",
            "No. Observations:                   3   AIC:                            -126.4\n",
            "Df Residuals:                       0   BIC:                            -129.1\n",
            "Df Model:                           2                                         \n",
            "Covariance Type:            nonrobust                                         \n",
            "==============================================================================\n",
            "                 coef    std err          t      P>|t|      [0.025      0.975]\n",
            "------------------------------------------------------------------------------\n",
            "const          3.2453        inf          0        nan         nan         nan\n",
            "FLR            2.0501        inf          0        nan         nan         nan\n",
            "PGNP          -0.0692        inf         -0        nan         nan         nan\n",
            "TFR           26.7721        inf          0        nan         nan         nan\n",
            "==============================================================================\n",
            "Omnibus:                          nan   Durbin-Watson:                   0.844\n",
            "Prob(Omnibus):                    nan   Jarque-Bera (JB):                0.511\n",
            "Skew:                          -0.678   Prob(JB):                        0.774\n",
            "Kurtosis:                       1.500   Cond. No.                         753.\n",
            "==============================================================================\n",
            "\n",
            "Warnings:\n",
            "[1] Standard Errors assume that the covariance matrix of the errors is correctly specified.\n",
            "[2] The input rank is higher than the number of observations.\n"
          ],
          "name": "stdout"
        },
        {
          "output_type": "stream",
          "text": [
            "/usr/local/lib/python3.7/dist-packages/statsmodels/stats/stattools.py:71: ValueWarning: omni_normtest is not valid with less than 8 observations; 3 samples were given.\n",
            "  \"samples were given.\" % int(n), ValueWarning)\n",
            "/usr/local/lib/python3.7/dist-packages/statsmodels/regression/linear_model.py:1648: RuntimeWarning: divide by zero encountered in true_divide\n",
            "  return 1 - (np.divide(self.nobs - self.k_constant, self.df_resid)\n",
            "/usr/local/lib/python3.7/dist-packages/statsmodels/regression/linear_model.py:1649: RuntimeWarning: invalid value encountered in double_scalars\n",
            "  * (1 - self.rsquared))\n",
            "/usr/local/lib/python3.7/dist-packages/statsmodels/regression/linear_model.py:1665: RuntimeWarning: divide by zero encountered in double_scalars\n",
            "  return self.ssr/self.df_resid\n",
            "/usr/local/lib/python3.7/dist-packages/statsmodels/regression/linear_model.py:1578: RuntimeWarning: divide by zero encountered in double_scalars\n",
            "  return np.dot(wresid, wresid) / self.df_resid\n"
          ],
          "name": "stderr"
        }
      ]
    },
    {
      "cell_type": "markdown",
      "metadata": {
        "id": "0RgtRa8O2Ilg"
      },
      "source": [
        "Como se puede observar, los errores estándar son infinitos, y los *p-values* e intervalos de confianza no\n",
        "están definidos, por lo que no resulta útil emplear los estimadores de MCO cuando el número de observaciones\n",
        "es inferior al número de parámetros que se pretende estimar.\n",
        "\n",
        "Ciertamente, el ejemplo que se acaba de presentar es muy sencillo; sin embargo, es posible que el dataset\n",
        "a emplear tenga un gran número de variables explicativas, incluso muy superior a la cantidad de observaciones\n",
        "disponibles, por lo cual el Supuesto #6, a pesar de su apariencia inocente, no debe ser tomado a la ligera.\n",
        "\n",
        "Cuando existen muchas más variables explicativas que observaciones se puede recurrir a diversas técnicas\n",
        "y se pueden llevar a cabo procesos de selección de variables con el propósito de lidiar con tal situación. "
      ]
    },
    {
      "cell_type": "markdown",
      "metadata": {
        "id": "EmQTWJEp3i0C"
      },
      "source": [
        "## Supuesto de variación en los valores de las variables explicativas (Supuesto #7)\n",
        "El supuesto #7 indica que las variables explicativas deben ser \"variables\"; es decir, que los valores de las\n",
        "variables explicativas deben cambiar entre observaciones, no pueden corresponder a la misma constante. Intuitivamente, para que una variable explicativa sea \"explicativa\" sus cambios deben asociarse a cambios en la variable dependiente; si el valor de una variable explicativa no cambia, resulta difícil identificar la manera como está asociada con la variable dependiente y, por ende, cuantificar la relación.\n",
        "\n",
        "Identificar el cumplimiento de este supuesto es bastante sencillo: \"si la desviación estándar muestral de las\n",
        "$x_i$ es cero, entonces el supuesto no se satisface; si no es así, este supuesto se satisface\" (Wooldridge, 2010, p.\n",
        "48).\n",
        "\n",
        "Para verificar en Python el cumplimiento del supuesto de variabilidad en las variables, se puede emplear,\n",
        "por ejemplo, el método ``.apply()``, utilizando como argumento la función ``std(...)`` de *NumPy*:"
      ]
    },
    {
      "cell_type": "code",
      "metadata": {
        "colab": {
          "base_uri": "https://localhost:8080/"
        },
        "id": "Yi6_CUsI5FbJ",
        "outputId": "0577053e-c0d5-495c-a351-daee8ac47cb6"
      },
      "source": [
        "data.apply(np.std)"
      ],
      "execution_count": 5,
      "outputs": [
        {
          "output_type": "execute_result",
          "data": {
            "text/plain": [
              "CM        75.382151\n",
              "FLR       25.803873\n",
              "PGNP    2704.317439\n",
              "TFR        1.497158\n",
              "dtype: float64"
            ]
          },
          "metadata": {
            "tags": []
          },
          "execution_count": 5
        }
      ]
    },
    {
      "cell_type": "markdown",
      "metadata": {
        "id": "_bKlHQt_5Kj8"
      },
      "source": [
        "De manera más sencilla, puede simplemente recurrirse a la función ``std(...)`` de *NumPy* utilizando el `DataFrame` como argumento:"
      ]
    },
    {
      "cell_type": "code",
      "metadata": {
        "colab": {
          "base_uri": "https://localhost:8080/"
        },
        "id": "909OIm8a5o5-",
        "outputId": "2fbb1aed-a3dd-4be8-9922-186567d8e7fd"
      },
      "source": [
        "np.std(data)"
      ],
      "execution_count": 6,
      "outputs": [
        {
          "output_type": "execute_result",
          "data": {
            "text/plain": [
              "CM        75.382151\n",
              "FLR       25.803873\n",
              "PGNP    2704.317439\n",
              "TFR        1.497158\n",
              "dtype: float64"
            ]
          },
          "metadata": {
            "tags": []
          },
          "execution_count": 6
        }
      ]
    },
    {
      "cell_type": "markdown",
      "metadata": {
        "id": "-bQVYC615rvN"
      },
      "source": [
        "O, de forma alternativa, con un proceso más elaborado, puede usarse un *for loop*: "
      ]
    },
    {
      "cell_type": "code",
      "metadata": {
        "colab": {
          "base_uri": "https://localhost:8080/"
        },
        "id": "AVvFVSg452dp",
        "outputId": "65b793db-5685-4db7-a6ce-f95be821b2ac"
      },
      "source": [
        "for columna in data.columns:\n",
        "  print(columna, np.std(data[columna]))"
      ],
      "execution_count": 7,
      "outputs": [
        {
          "output_type": "stream",
          "text": [
            "CM 75.38215140203947\n",
            "FLR 25.8038726502438\n",
            "PGNP 2704.31743929961\n",
            "TFR 1.4971576912081606\n"
          ],
          "name": "stdout"
        }
      ]
    },
    {
      "cell_type": "markdown",
      "metadata": {
        "id": "Qxz4kru759a6"
      },
      "source": [
        "Cualquiera de los procedimientos empleados previamente lleva al mismo resultado, en el que se puede observar que ninguna variable presenta una desviación estándar de cero, por lo que, en efecto, se trata de variables y no constantes. A modo de ejemplo, si a los datos se les añade una columna en la que todas las observaciones corresponden al número 3, se puede observar que en este escenario una de las variables presenta una desviación estándar de cero, lo que indica que sus valores no cambian: "
      ]
    },
    {
      "cell_type": "code",
      "metadata": {
        "colab": {
          "base_uri": "https://localhost:8080/"
        },
        "id": "0gZV6cKH6rES",
        "outputId": "b277c561-9b54-47d5-f4d3-8e9074516f0a"
      },
      "source": [
        "data[\"Constante\"] = 3\n",
        "print(np.std(data))\n",
        "data.drop(columns = [\"Constante\"], inplace = True)"
      ],
      "execution_count": 8,
      "outputs": [
        {
          "output_type": "stream",
          "text": [
            "CM             75.382151\n",
            "FLR            25.803873\n",
            "PGNP         2704.317439\n",
            "TFR             1.497158\n",
            "Constante       0.000000\n",
            "dtype: float64\n"
          ],
          "name": "stdout"
        }
      ]
    },
    {
      "cell_type": "markdown",
      "metadata": {
        "id": "wYqZWU8U678x"
      },
      "source": [
        "En este caso, la varianza de la variable llamada \"Constante\" es de cero, por lo que sus valores nunca varían y no podría emplearse en el modelo de regresión pues sería absorbida por completo en el término del intercepto o simplemente correspondería al término del intercepto si éste no está incluido en la ecuación. "
      ]
    },
    {
      "cell_type": "markdown",
      "metadata": {
        "id": "54Wf9joo7yZD"
      },
      "source": [
        "## Supuesto de No multicolinealidad (Supuesto # 8)\n",
        "\n",
        "Uno de los supuestos sobre la estructura del modelo es que no se presenta colinealidad exacta entre las\n",
        "variables explicativas. La colinealidad, de acuerdo a\n",
        "Dormann et al. (2013), \"describe la situación en la cual dos o más variables predictoras en un modelo estadístico\n",
        "están linealmente relacionadas\" (p. 28).\n",
        "\n",
        "Un método para detectar colinealidad entre variables es calcular el coeficiente de correlación simple entre\n",
        "pares de estas; si alguno de estos coeficientes es mayor, en valor absoluto, a 0.9, entonces hay síntoma de\n",
        "colinealidad muy fuerte.\n",
        "\n",
        "Para examinar la correlación entre las variables numéricas de un ``DataFrame`` de *pandas*, es posible emplear\n",
        "el método `.corr()`. Así:"
      ]
    },
    {
      "cell_type": "code",
      "metadata": {
        "colab": {
          "base_uri": "https://localhost:8080/",
          "height": 175
        },
        "id": "0KOus_up8e2o",
        "outputId": "61aed4d5-f06b-4cfe-a273-f084caaa4849"
      },
      "source": [
        "data.corr()"
      ],
      "execution_count": 9,
      "outputs": [
        {
          "output_type": "execute_result",
          "data": {
            "text/html": [
              "<div>\n",
              "<style scoped>\n",
              "    .dataframe tbody tr th:only-of-type {\n",
              "        vertical-align: middle;\n",
              "    }\n",
              "\n",
              "    .dataframe tbody tr th {\n",
              "        vertical-align: top;\n",
              "    }\n",
              "\n",
              "    .dataframe thead th {\n",
              "        text-align: right;\n",
              "    }\n",
              "</style>\n",
              "<table border=\"1\" class=\"dataframe\">\n",
              "  <thead>\n",
              "    <tr style=\"text-align: right;\">\n",
              "      <th></th>\n",
              "      <th>CM</th>\n",
              "      <th>FLR</th>\n",
              "      <th>PGNP</th>\n",
              "      <th>TFR</th>\n",
              "    </tr>\n",
              "  </thead>\n",
              "  <tbody>\n",
              "    <tr>\n",
              "      <th>CM</th>\n",
              "      <td>1.000000</td>\n",
              "      <td>-0.818285</td>\n",
              "      <td>-0.407697</td>\n",
              "      <td>0.671135</td>\n",
              "    </tr>\n",
              "    <tr>\n",
              "      <th>FLR</th>\n",
              "      <td>-0.818285</td>\n",
              "      <td>1.000000</td>\n",
              "      <td>0.268530</td>\n",
              "      <td>-0.625954</td>\n",
              "    </tr>\n",
              "    <tr>\n",
              "      <th>PGNP</th>\n",
              "      <td>-0.407697</td>\n",
              "      <td>0.268530</td>\n",
              "      <td>1.000000</td>\n",
              "      <td>-0.185718</td>\n",
              "    </tr>\n",
              "    <tr>\n",
              "      <th>TFR</th>\n",
              "      <td>0.671135</td>\n",
              "      <td>-0.625954</td>\n",
              "      <td>-0.185718</td>\n",
              "      <td>1.000000</td>\n",
              "    </tr>\n",
              "  </tbody>\n",
              "</table>\n",
              "</div>"
            ],
            "text/plain": [
              "            CM       FLR      PGNP       TFR\n",
              "CM    1.000000 -0.818285 -0.407697  0.671135\n",
              "FLR  -0.818285  1.000000  0.268530 -0.625954\n",
              "PGNP -0.407697  0.268530  1.000000 -0.185718\n",
              "TFR   0.671135 -0.625954 -0.185718  1.000000"
            ]
          },
          "metadata": {
            "tags": []
          },
          "execution_count": 9
        }
      ]
    },
    {
      "cell_type": "markdown",
      "metadata": {
        "id": "CTEYX-Ad8A0M"
      },
      "source": [
        "Si se requiere una representación un tanto más \"rica\" visualmente, se puede recurrir a la función\n",
        "`heatmap(...)` de *Seaborn*, la cual dibuja una matriz codificada por color. El argumento a pasar a la función,\n",
        "para este caso específico, es la matriz de correlaciones, la cual, tal y como hemos apenas visto, es obtenida con\n",
        "la aplicación del método `.corr()` sobre el `DataFrame`.\n",
        "El código a emplear es el siguiente:"
      ]
    },
    {
      "cell_type": "code",
      "metadata": {
        "colab": {
          "base_uri": "https://localhost:8080/",
          "height": 487
        },
        "id": "lnPyQ1Yo9B1s",
        "outputId": "dea50708-fc6f-4932-dc7f-55d1996390e9"
      },
      "source": [
        "fig, ax = plt.subplots(figsize = (8, 6))\n",
        "fig.suptitle(\"Correlación simple\\nentre variables\",\n",
        "             fontsize = 18,\n",
        "             fontweight = \"bold\", x = 0.43)\n",
        "sns.heatmap(data.corr(), ax = ax)\n",
        "plt.subplots_adjust(top = 0.85)\n",
        "fig.text(.9,-.02, \"Elaboración:\",\n",
        "         fontsize = 13, fontweight = \"bold\",\n",
        "         ha = \"right\")\n",
        "fig.text(.9,-.07,\"Triana, F.\",\n",
        "         fontsize = 12, ha = \"right\")\n",
        "plt.show()"
      ],
      "execution_count": 10,
      "outputs": [
        {
          "output_type": "display_data",
          "data": {
            "image/png": "[encoded data removed]",
            "text/plain": [
              "<Figure size 576x432 with 2 Axes>"
            ]
          },
          "metadata": {
            "tags": [],
            "needs_background": "light"
          }
        }
      ]
    },
    {
      "cell_type": "markdown",
      "metadata": {
        "id": "lH0zgTP99Tvr"
      },
      "source": [
        "Podemos observar que la escala de color usada por defecto por la función `heatmap(...)` de *Seaborn* no\n",
        "parece ser la más adecuada. Es posible modificar esto incluyendo un valor específico para el parámetro *cmap*,\n",
        "asignando la escala que nos parezca la más indicada. A modo de ejemplo, en el siguiente código se empleará la\n",
        "escala \"RdYlGn\" (rojos, amarillos, verdes):"
      ]
    },
    {
      "cell_type": "code",
      "metadata": {
        "colab": {
          "base_uri": "https://localhost:8080/",
          "height": 487
        },
        "id": "jYnCTw689nU8",
        "outputId": "581fdaf1-4043-40cd-fcaa-55cc9b06053c"
      },
      "source": [
        "fig, ax = plt.subplots(figsize = (8, 6))\n",
        "fig.suptitle(\"Correlación simple\\nentre variables\",\n",
        "             fontsize = 18,\n",
        "             fontweight = \"bold\", x = 0.43)\n",
        "sns.heatmap(data.corr(), ax = ax, cmap = \"RdYlGn\")\n",
        "plt.subplots_adjust(top = 0.85)\n",
        "fig.text(.9,-.02, \"Elaboración:\",\n",
        "         fontsize = 13, fontweight = \"bold\",\n",
        "         ha = \"right\")\n",
        "fig.text(.9,-.07,\"Triana, F.\",\n",
        "         fontsize = 12, ha = \"right\")\n",
        "plt.show()"
      ],
      "execution_count": 11,
      "outputs": [
        {
          "output_type": "display_data",
          "data": {
            "image/png": "[encoded data removed]",
            "text/plain": [
              "<Figure size 576x432 with 2 Axes>"
            ]
          },
          "metadata": {
            "tags": [],
            "needs_background": "light"
          }
        }
      ]
    },
    {
      "cell_type": "markdown",
      "metadata": {
        "id": "rgvtigeJ-FsR"
      },
      "source": [
        "Si consideramos que nuestro gráfico aún no es lo suficientemente informativo, podemos agregar el coeficiente de correlación simple correspondiente a cada una de las celdas. Para alcanzar tal objetivo, debemos incluir el parámetro *annot* en la función `heatmap(...)` de *Seaborn* y asignarle el valor de `True` (*annot* es un\n",
        "parámetro de tipo booleano). Así:"
      ]
    },
    {
      "cell_type": "code",
      "metadata": {
        "colab": {
          "base_uri": "https://localhost:8080/",
          "height": 487
        },
        "id": "nAAcj4zW-T7a",
        "outputId": "72a1c756-3bf4-454a-8571-6c2800686051"
      },
      "source": [
        "fig, ax = plt.subplots(figsize = (8, 6))\n",
        "fig.suptitle(\"Correlación simple\\nentre variables\",\n",
        "             fontsize = 18,\n",
        "             fontweight = \"bold\", x = 0.43)\n",
        "sns.heatmap(data.corr(), ax = ax, cmap = \"RdYlGn\", annot = True)\n",
        "plt.subplots_adjust(top = 0.85)\n",
        "fig.text(.9,-.02, \"Elaboración:\",\n",
        "         fontsize = 13, fontweight = \"bold\",\n",
        "         ha = \"right\")\n",
        "fig.text(.9,-.07,\"Triana, F.\",\n",
        "         fontsize = 12, ha = \"right\")\n",
        "plt.show()"
      ],
      "execution_count": 12,
      "outputs": [
        {
          "output_type": "display_data",
          "data": {
            "image/png": "[encoded data removed]",
            "text/plain": [
              "<Figure size 576x432 with 2 Axes>"
            ]
          },
          "metadata": {
            "tags": [],
            "needs_background": "light"
          }
        }
      ]
    },
    {
      "cell_type": "markdown",
      "metadata": {
        "id": "FpOR3zum-ZTU"
      },
      "source": [
        "Así, notamos que la correlación más fuerte se presenta entre las variables \"CM\" y \"FLR\", con un coeficiente\n",
        "superior a 0.8 (en valor absoluto); sin embargo, tal magnitud del coeficiente no debe ser una preocupación\n",
        "mayor, en cuanto el Supuesto #8 se refiere a colinealidad entre variables *explicativas* y la variable \"CM\" es la\n",
        "variable *dependiente*, mientras que \"FLR\" es una variable explicativa.\n",
        "\n",
        "El Supuesto #8 hace referencia a colinealidad exacta; esto es cuando una variable explicativa tiene una relación lineal exacta con otra. Cuando se presenta colinealidad exacta, los coeficientes de regresión son indeterminados y los errores estándar son infinitos (Gujarati y Porter, 2010).\n",
        "\n",
        "En nuestro caso específico, ninguna de las variables explicativas presenta una correlación muy fuerte con\n",
        "alguna otra variable explicativa distinta a ella misma, por lo tanto, no se presenta multicolinealidad perfecta y\n",
        "es posible estimar los parámetros.\n",
        "\n",
        "Otra técnica útil para detectar multicolinealidad es por medio del Factor de Inflación de Varianza (VIF,\n",
        "por sus siglas en inglés). \"VIFs altos reflejan un incremento en las varianzas de los coeficientes de regresión\n",
        "estimados debido a colinealidad entre variables predictoras, en comparación con las que se obtendrían cuando\n",
        "las predictoras son ortogonales\" (Murray, Nguyen, Lee, Remmenga, y Smith, 2012).\n",
        "\n",
        "Así, en caso de que no haya multicolinealidad, o ésta sea leve, se espera que la magnitud de los VIFs sea\n",
        "pequeña y entre más fuerte sea la colinealidad más alto será el VIF; Gujarati y Porter (2010), basados en el\n",
        "trabajo de Kleinbaum, Kupper y Muller (1988), sugieren una regla práctica: \"si el FIV [VIF] de una variable es\n",
        "superior a 10 (esto sucede si $R_{j}^2$ excede 0.90), se dice que esa variable es muy colineal\" (p.340).\n",
        "\n",
        "¿Cuáles son los VIFs de las variables del dataset con el que se está trabajando? Para obtener estos valores,\n",
        "se hará uso de la función ``variance_inflation_factor(...)`` del módulo *stats.outliers_influence*\n",
        "de la librería *Statsmodels*.\n",
        "\n",
        "La función ``variance_inflation_factor(...)`` recibe dos argumentos: la matriz que contiene las variables explicativas (*exog*) y un índice (*exog_idx*) que señala qué variable es a la que corresponde el VIF calculado.\n",
        "\n",
        "Esta función calcula el VIF para la variable señalada; sin embargo, es de interés conocer el VIF de cada una de\n",
        "las variables explicativas.\n",
        "\n",
        "Es posible aplicar la función ``variance_inflation_factor(...)`` de forma \"manual\" tantas veces como variables de interés haya; para nuestro caso, hay 3 variables explicativas, por lo que la función solo debe aplicarse 3 veces: una operación que no es excesivamente tediosa. Sin embargo, si se tuviera un número apreciable de variables explicativas, resultaría molesto repetir la operación en múltiples ocasiones, por lo que resulta útil poder \"automatizar\" tal tarea. Una opción para lograr esto es utilizar un ciclo ``for``:"
      ]
    },
    {
      "cell_type": "code",
      "metadata": {
        "colab": {
          "base_uri": "https://localhost:8080/"
        },
        "id": "Z3ZeHZ7iAFmC",
        "outputId": "ad8d31f0-12f7-41da-f7e7-96a9d2654547"
      },
      "source": [
        "from statsmodels.stats.outliers_influence import variance_inflation_factor\n",
        "X = sm.add_constant(data[[\"FLR\", \"PGNP\", \"TFR\"]])\n",
        "for i in range(len(X.columns)):\n",
        "    variable = X.columns[i]\n",
        "    vif = variance_inflation_factor(X.values, i)\n",
        "    print(variable, vif)"
      ],
      "execution_count": 13,
      "outputs": [
        {
          "output_type": "stream",
          "text": [
            "const 45.21718387655253\n",
            "FLR 1.7118453475892694\n",
            "PGNP 1.078305947361206\n",
            "TFR 1.6451503926767397\n"
          ],
          "name": "stdout"
        }
      ]
    },
    {
      "cell_type": "markdown",
      "metadata": {
        "id": "9ghtisWUBZb5"
      },
      "source": [
        "Si se desea obtener una presentación más \"elaborada\" del resultado, puede construirse un ``DataFrame`` de *pandas*:"
      ]
    },
    {
      "cell_type": "code",
      "metadata": {
        "colab": {
          "base_uri": "https://localhost:8080/",
          "height": 175
        },
        "id": "nDXt2tjxBEaM",
        "outputId": "876030ea-28a9-4510-fbb9-d06196bc741a"
      },
      "source": [
        "vif = []\n",
        "rango = X.shape[1]\n",
        "for i in range(rango):\n",
        "    vif.append(variance_inflation_factor(X.values, i))\n",
        "tabla = pd.DataFrame({\"VIF\": vif}, index = X.columns)\n",
        "tabla"
      ],
      "execution_count": 14,
      "outputs": [
        {
          "output_type": "execute_result",
          "data": {
            "text/html": [
              "<div>\n",
              "<style scoped>\n",
              "    .dataframe tbody tr th:only-of-type {\n",
              "        vertical-align: middle;\n",
              "    }\n",
              "\n",
              "    .dataframe tbody tr th {\n",
              "        vertical-align: top;\n",
              "    }\n",
              "\n",
              "    .dataframe thead th {\n",
              "        text-align: right;\n",
              "    }\n",
              "</style>\n",
              "<table border=\"1\" class=\"dataframe\">\n",
              "  <thead>\n",
              "    <tr style=\"text-align: right;\">\n",
              "      <th></th>\n",
              "      <th>VIF</th>\n",
              "    </tr>\n",
              "  </thead>\n",
              "  <tbody>\n",
              "    <tr>\n",
              "      <th>const</th>\n",
              "      <td>45.217184</td>\n",
              "    </tr>\n",
              "    <tr>\n",
              "      <th>FLR</th>\n",
              "      <td>1.711845</td>\n",
              "    </tr>\n",
              "    <tr>\n",
              "      <th>PGNP</th>\n",
              "      <td>1.078306</td>\n",
              "    </tr>\n",
              "    <tr>\n",
              "      <th>TFR</th>\n",
              "      <td>1.645150</td>\n",
              "    </tr>\n",
              "  </tbody>\n",
              "</table>\n",
              "</div>"
            ],
            "text/plain": [
              "             VIF\n",
              "const  45.217184\n",
              "FLR     1.711845\n",
              "PGNP    1.078306\n",
              "TFR     1.645150"
            ]
          },
          "metadata": {
            "tags": []
          },
          "execution_count": 14
        }
      ]
    },
    {
      "cell_type": "markdown",
      "metadata": {
        "id": "UwohBP6gB0si"
      },
      "source": [
        "Así, se puede observar que ninguna de las variables explicativas exhibe un VIF elevado, por lo que no se\n",
        "sugiere que alguna de estas variables sea muy colineal. Este resultado está en línea con lo que se obtuvo en la\n",
        "matriz de correlaciones, en la cual se encontró que ninguno de los coeficientes de correlación simple era muy\n",
        "alto."
      ]
    },
    {
      "cell_type": "markdown",
      "metadata": {
        "id": "EXFP-mULilXW"
      },
      "source": [
        "## Referencias:\n",
        "Dormann, C.F., Elith, J., Bacher, S., Buchmann, C., Gudrun, C., Carré, G., García, J.R., Gruber, B., Lafourcade,\n",
        "B., Leitão, P.J., Münkemüller, T., McClean, C., Osborne, P.E., Reineking, B., Schröder, B., Skidmore, A.K.,\n",
        "Zurell, D., y Lautenbach, S. (2013). Collinearity: a review of methods to deal with it and a simulation\n",
        "study evaluating their performance. *Ecograpghy*, 36, 27-46. doi: 10.1111/j.1600-0587.2012.07348.x\n",
        "\n",
        "Gujarati, D.N. y Porter, D.C. (2010). *Econometría*. México: McGraw-Hill/Interamericana Editores, S.A. de C.V.\n",
        "\n",
        "Greene, W.H. (2003). *Econometric Analysis*. New Jersey, Estados Unidos: Pearson Education, Inc.\n",
        "\n",
        "James, G., Witten, D., Hastie, T., y Tibshirani, R. (2013). *An Introduction to Statistical Learning with Applications in R*. doi: 10.1007/978-1-4614-7138-7\n",
        "\n",
        "Murray, L., Nguyen, H., Lee, Y-F., Remmenga, M., y Smith, D.W. (2012). Variance Inflation Factors in Regression Models with dummy variables. *Conference on Applied Statistics in Agriculture*. doi: 10.4148/2475-7772.1034\n",
        "\n",
        "Wooldridge, J.M. (2010). *Introducción a la econometría. Un enfoque moderno*. México: Cengage Learning\n",
        "Editores, S.A. de C.V."
      ]
    }
  ]
}