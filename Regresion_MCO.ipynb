{
  "nbformat": 4,
  "nbformat_minor": 0,
  "metadata": {
    "kernelspec": {
      "name": "python3",
      "display_name": "Python 3",
      "language": "python"
    },
    "language_info": {
      "mimetype": "text/x-python",
      "nbconvert_exporter": "python",
      "name": "python",
      "pygments_lexer": "ipython3",
      "version": "3.5.4",
      "file_extension": ".py",
      "codemirror_mode": {
        "version": 3,
        "name": "ipython"
      }
    },
    "colab": {
      "name": "Regresion_MCO.ipynb",
      "provenance": [],
      "toc_visible": true
    }
  },
  "cells": [
    {
      "cell_type": "markdown",
      "metadata": {
        "id": "Fb2RacDUYMMZ"
      },
      "source": [
        "# Econometría básica con Python\r\n",
        "## Regresión Lineal por Mínimos Cuadrados Ordinarios\r\n",
        "\r\n",
        "**Fabián Alejandro Triana Alarcón**\r\n",
        "\r\n",
        "fatrianaa1@gmail.com / fatrianaa@unal.edu.co\r\n",
        "\r\n",
        "Economista. Estudiante de Especialización en Estadística\r\n",
        "\r\n",
        "Universidad Nacional de Colombia"
      ]
    },
    {
      "cell_type": "markdown",
      "metadata": {
        "id": "C5a94JwnpkkB"
      },
      "source": [
        "## Análisis de Regresión:"
      ]
    },
    {
      "cell_type": "markdown",
      "metadata": {
        "id": "NNRFAG5lYtOG"
      },
      "source": [
        "El análisis de regresión trata del estudio de la dependencia de una variable (variable dependiente)\r\n",
        "respecto de una o más variables (variables explicativas) con el objetivo de estimar o predecir la\r\n",
        "media o valor promedio poblacional de la primera en términos de los valores conocidos o fijos (en\r\n",
        "muestras repetidas) de las segundas. (Gujarati y Porter, 2010, p.15)\r\n",
        "\r\n",
        "En términos simples, el análisis de regresión estudia la relación que existe entre la variable dependiente y\r\n",
        "la(s) variable(s) explicativa(s). Para el caso de la regresión lineal, tal relación puede ser expresada como una\r\n",
        "función lineal en los parámetros, pero ¿de qué parámetros se está hablando?\r\n",
        "\r\n",
        "Para resolver el anterior interrogante, lo primero que se hará será considerar una regresión bivariada, en la cual la variable dependiente (que se identifica con $y$) puede ser expresada como una función (con linealidad en los parámetros) de la variable explicativa (que se identifica con $x$). Concretamente:\r\n",
        "\r\n",
        "$$y_i=\\beta_0+\\beta_1x_i+u_i$$\r\n",
        "\r\n",
        "Esta expresión corresponde a la Función de Regresión Poblacional (FRP) (Gujarati y Porter, 2010) y los\r\n",
        "parámetros a los que se ha hecho referencia son simplemente los $\\beta_i$; como podemos ver, estos $\\bf{\\beta}$ no se ven\r\n",
        "afectados por algún tipo de transformación que modifique su relación lineal con la variable dependiente: a esto es que se hace referencia con linealidad en los parámetros, la cual, no necesariamente debe aplicar a las variables\r\n",
        "explicativas (Greene, 2003; Gujarati y Porter, 2010). En cuanto a $u$, ésta corresponde al término de error, el cual\r\n",
        "recoge el efecto de las variables no incluidas explícitamente en el modelo y que afectan $y$.\r\n",
        "\r\n",
        "Ahora, en la práctica se desconoce la Función de Regresión Poblacional, por lo que se recurre a la Función\r\n",
        "de Regresión Muestral (FRM) como una aproximación a esta:\r\n",
        "\r\n",
        "$$y_i=\\hat{\\beta_0}+\\hat{\\beta_1}x_i+\\hat{u_i}$$\r\n",
        "\r\n",
        "Esta expresión es muy parecida a la de la Función de Regresión Poblacional, pero presenta una diferencia\r\n",
        "fundamental: los términos de la Función de Regresión Muestral tienen correspondencia directa con los términos\r\n",
        "incluidos en la expresión de la Función de Regresión Poblacional, pero no son exactamente los mismos, en\r\n",
        "cuanto se trata de sus **estimadores**. Así, el estimador del parámetro $k$ se identifica como $\\hat{k}$.\r\n",
        "\r\n",
        "Para realizar la estimación, es frecuente el uso de dos métodos: **Mínimos Cuadrados Ordinarios** y **Máxima\r\n",
        "Verosimilitud**. El método de Mínimos Cuadrados Ordinarios, o MCO, es el más común y tiende a ser abordado\r\n",
        "como tema fundamental en los cursos de econometría a nivel introductorio.\r\n",
        "\r\n",
        "La idea general del método de MCO es, básicamente, minimizar la suma de los residuos (termino $\\hat{u}$ en la Función de Regresión Muestral) cuadrados. Para el caso de una regresión bivariada, lo que se busca con el método MCO es el menor valor posible de $\\sum_{i=1}^n\\hat{u_i}^2$, teniendo en cuenta que:\r\n",
        "\r\n",
        "$$\\sum_{i=1}^n\\hat{u_i}^2=\\sum_{i=1}^n(y_i-\\hat{\\beta_0}-\\hat{\\beta_1}x_i)^2$$\r\n",
        "\r\n",
        "Así, los estimadores $\\hat{\\beta_0}$ y $\\hat{\\beta_1}$ con los que se halla la menor suma de los residuos al cuadrado son los estimadores MCO, los cuales, con el cumplimiento de un conjunto de supuestos específicos, evidencian propiedades estadísticas muy atractivas."
      ]
    },
    {
      "cell_type": "markdown",
      "metadata": {
        "id": "iK4aNU8Vgd6y"
      },
      "source": [
        "## Regresión lineal simple:\r\n",
        "Una regresión lineal simple es en la que únicamente se tiene una variable explicativa (solo hay una variable $x$). Para llevar a cabo la regresión lineal simple, utilizaremos el mismo dataset del capítulo previo (el cual corresponde al Ejemplo 7.1, *Mortalidad infantil en relación con el PIB per cápita y la tasa de alfabetización de las mujeres*, de Gujarati y Porter (2010)) y requeriremos de las mismas herramientas empleadas en éste, por lo que procederemos a importar las respectivas librerías y los datos:"
      ]
    },
    {
      "cell_type": "code",
      "metadata": {
        "trusted": false,
        "id": "nlX9_B8GYMMb",
        "colab": {
          "base_uri": "https://localhost:8080/"
        },
        "outputId": "95810bf8-955a-4293-f69c-9478b8732384"
      },
      "source": [
        "import numpy as np\n",
        "import pandas as pd\n",
        "import statsmodels.api as sm\n",
        "import matplotlib.pyplot as plt"
      ],
      "execution_count": 1,
      "outputs": [
        {
          "output_type": "stream",
          "text": [
            "/usr/local/lib/python3.6/dist-packages/statsmodels/tools/_testing.py:19: FutureWarning: pandas.util.testing is deprecated. Use the functions in the public API at pandas.testing instead.\n",
            "  import pandas.util.testing as tm\n"
          ],
          "name": "stderr"
        }
      ]
    },
    {
      "cell_type": "code",
      "metadata": {
        "trusted": false,
        "id": "BTge2glFYMMb"
      },
      "source": [
        "data = pd.read_csv(\"GujaratiPorter71.txt\", \n",
        "                   sep = \" \", delimiter=\"\\t\")"
      ],
      "execution_count": 2,
      "outputs": []
    },
    {
      "cell_type": "markdown",
      "metadata": {
        "id": "mn7duMblhTgL"
      },
      "source": [
        "El `DataFrame` contiene información de las siguientes variables:\r\n",
        "\r\n",
        "* **CM**. Esta variable hace referencia a *Child Mortality* y corresponde a la mortalidad infantil. Se trata del número de fallecimientos, en un año, de niños con una edad inferior a 5 años por cada 1000 nacidos vivos.\r\n",
        "\r\n",
        "* **FLR**. Esta variable hace referencia a *Female Literacy Rate* y corresponde a la tasa de alfabetización de las mujeres.\r\n",
        "\r\n",
        "* **PGNP** hace referencia a *Per cápita Gross National Product* y corresponde al PIB per cápita en 1980.\r\n",
        "\r\n",
        "* **TFR** hace referencia a *Total Fertility Rate* y corresponde a la tasa de fecundidad total.\r\n",
        "\r\n",
        "En la regresión lineal simple que se adelantará, la variable dependiente será \"CM\" (mortalidad infantil) y\r\n",
        "la variable explicativa será \"PGNP\" (PIB per cápita).\r\n",
        "\r\n",
        "Se procederá a examinar visualmente la relación que existe entre las variables de interés. Para esto, se construirá un diagrama de dispersión (*scatterplot*) con el uso del método `.scatter()`, aplicado a un `Axes` de *Matplotlib*. El código a emplear es el siguiente:"
      ]
    },
    {
      "cell_type": "code",
      "metadata": {
        "trusted": false,
        "id": "FbSRFb_sYMMc",
        "colab": {
          "base_uri": "https://localhost:8080/",
          "height": 415
        },
        "outputId": "f6d2ef3b-6fef-4891-db84-9dfa1cb757cd"
      },
      "source": [
        "fig, ax = plt.subplots(figsize = (10, 5))\n",
        "fig.suptitle(\"PIB per cápita vs. Mortalidad infantil\", fontsize = 18, \n",
        "             fontweight = \"bold\")\n",
        "ax.scatter(x = data[\"PGNP\"], y = data[\"CM\"], s = 50, color = \"darkblue\")\n",
        "ax.set_xlabel(\"PIB per cápita\", fontsize = 15)\n",
        "ax.set_ylabel(\"Mortalidad infantil\\n(por cada 1000 nacidos vivos)\", \n",
        "           fontsize = 15)\n",
        "plt.subplots_adjust(top=0.9)\n",
        "plt.tick_params(labelsize = 15)\n",
        "fig.text(.9,-.02,\n",
        "         \"Elaboración:\",\n",
        "          fontsize = 13, fontweight = \"bold\", \n",
        "         ha = \"right\")\n",
        "fig.text(.9,-.08,\n",
        "         \"Triana, F.\",\n",
        "         fontsize = 12, ha = \"right\")\n",
        "plt.show()"
      ],
      "execution_count": 3,
      "outputs": [
        {
          "output_type": "display_data",
          "data": {
            "image/png": "[encoded data removed]",
            "text/plain": [
              "<Figure size 720x360 with 1 Axes>"
            ]
          },
          "metadata": {
            "tags": [],
            "needs_background": "light"
          }
        }
      ]
    },
    {
      "cell_type": "markdown",
      "metadata": {
        "id": "dtXyP-aJiO2p"
      },
      "source": [
        "A partir del gráfico se puede observar que la relación entre las variables es aparentemente negativa. Sin\r\n",
        "embargo, esto tan solo es una impresión que se genera a partir de la observación y puede ser errada, razón por\r\n",
        "la cual se examinará cuantitativamente dicha relación buscando comprobar si la conjetura es correcta; para tal\r\n",
        "propósito se llevará a cabo una regresión lineal por el método de MCO.\r\n",
        "\r\n",
        "Para crear el modelo, se emplea la función `OLS(...)` de *Statsmodels.api*. Los argumentos que se incluyen corresponden, respectivamente, a la variable dependiente y a la variable explicativa. El resultado será asignado a un objeto que se denominará `MiModeloSimple`:"
      ]
    },
    {
      "cell_type": "code",
      "metadata": {
        "trusted": false,
        "id": "uylRKsdKYMMd"
      },
      "source": [
        "MiModeloSimple = sm.OLS(data[\"CM\"], data[\"PGNP\"])"
      ],
      "execution_count": 4,
      "outputs": []
    },
    {
      "cell_type": "markdown",
      "metadata": {
        "id": "dbL7-t1NizBj"
      },
      "source": [
        "El modelo ya ha sido creado, es decir, ya se ha definido su estructura; sin embargo, aún no se ha llevado a cabo ninguna estimación a partir de éste. Para efectuar la estimación se recurrirá al método `.fit()` y se\r\n",
        "almacenarán los resultados generados en un objeto al que se denominará `ResultadosSimple`:"
      ]
    },
    {
      "cell_type": "code",
      "metadata": {
        "trusted": false,
        "id": "Vr5SPSsjYMMd"
      },
      "source": [
        "ResultadosSimple = MiModeloSimple.fit()"
      ],
      "execution_count": 5,
      "outputs": []
    },
    {
      "cell_type": "markdown",
      "metadata": {
        "id": "ie1qDWZmjAnJ"
      },
      "source": [
        "Al ejecutar esta línea de código no se obtiene algún resultado visible. Esto se debe a que lo que se ha conseguido con la ejecución es guardar los resultados generados en un objeto, sin indicar la realización de\r\n",
        "alguna acción en particular con dicho objeto. Ahora, si se desea visualizar los resultados del modelo, puede simplemente usarse la función integrada `print(...)`, empleando como argumento la aplicación del método `.summary()` sobre el objeto que almacena los resultados de dicho modelo. Así:"
      ]
    },
    {
      "cell_type": "code",
      "metadata": {
        "trusted": false,
        "id": "SwlxTT3sYMMd",
        "colab": {
          "base_uri": "https://localhost:8080/"
        },
        "outputId": "52fd236f-80fb-49a7-f6ca-4e1dba153732"
      },
      "source": [
        "print(ResultadosSimple.summary())"
      ],
      "execution_count": 6,
      "outputs": [
        {
          "output_type": "stream",
          "text": [
            "                                 OLS Regression Results                                \n",
            "=======================================================================================\n",
            "Dep. Variable:                     CM   R-squared (uncentered):                   0.056\n",
            "Model:                            OLS   Adj. R-squared (uncentered):              0.041\n",
            "Method:                 Least Squares   F-statistic:                              3.710\n",
            "Date:                Sun, 24 Jan 2021   Prob (F-statistic):                      0.0586\n",
            "Time:                        18:13:54   Log-Likelihood:                         -413.92\n",
            "No. Observations:                  64   AIC:                                      829.8\n",
            "Df Residuals:                      63   BIC:                                      832.0\n",
            "Df Model:                           1                                                  \n",
            "Covariance Type:            nonrobust                                                  \n",
            "==============================================================================\n",
            "                 coef    std err          t      P>|t|      [0.025      0.975]\n",
            "------------------------------------------------------------------------------\n",
            "PGNP           0.0124      0.006      1.926      0.059      -0.000       0.025\n",
            "==============================================================================\n",
            "Omnibus:                        7.668   Durbin-Watson:                   0.755\n",
            "Prob(Omnibus):                  0.022   Jarque-Bera (JB):                7.941\n",
            "Skew:                          -0.561   Prob(JB):                       0.0189\n",
            "Kurtosis:                       4.312   Cond. No.                         1.00\n",
            "==============================================================================\n",
            "\n",
            "Warnings:\n",
            "[1] Standard Errors assume that the covariance matrix of the errors is correctly specified.\n"
          ],
          "name": "stdout"
        }
      ]
    },
    {
      "cell_type": "markdown",
      "metadata": {
        "id": "jS0NzwxHjQ3Y"
      },
      "source": [
        "Lo que se obtiene con la ejecución del código es un resumen de la instancia de resultados en el que se presenta la información más relevante acerca de estos: en la parte superior se incluye el método de estimación empleado, el número de observaciones, los grados de libertad (de los residuos y del modelo) y el $R^2$ (estándar\r\n",
        "y ajustado), entre otros datos relevantes. En la sección del medio se encuentran los coeficientes, junto a sus respectivos errores estándar, estadísticos $t$ e intervalos de confianza. En la última sección están las advertencias, las cuales resultan, frecuentemente, muy útiles y pueden ayudar a identificar potenciales problemas.\r\n",
        "\r\n",
        "Se puede observar que el coeficiente de la variable explicativa es positivo, lo que contradice la conclusión visual de que la relación, aparentemente, era negativa; algo que resulta, además, poco lógico, pues se esperaría que los países con ingreso *per cápita* más alto tuvieran una tasa de mortalidad infantil menor. Ante esta situación extraña vale la pena preguntarse sobre su causa: ¿cómo puede explicarse tal inconsistencia? La respuesta es extremadamente simple: para este modelo solo se ha calculado el coeficiente correspondiente a la variable \"PGNP\" y no se ha considerado la existencia del parámetro de intercepto, es decir, se ha llevado a cabo una regresión *a través del origen* (una regresión que no tiene $\\beta_0$)\r\n",
        "\r\n",
        "La función `OLS(...)` de *Statsmodels.api* no asume por defecto que el modelo a estimar incluye una constante como variable explicativa y, por tanto, no realiza la estimación del coeficiente correspondiente al parámetro de intercepto. Para conseguir la estimación de dicho parámetro es necesario especificar que una constante debe\r\n",
        "añadirse al conjunto de variables explicativas del modelo; esto se logra, por ejemplo, empleando la función `add_constant(...)` de *Statsmodels.api*, tomando como argumento el objeto correspondiente a las variables explicativas incluidas. Así:"
      ]
    },
    {
      "cell_type": "code",
      "metadata": {
        "trusted": false,
        "id": "y4aqfCHeYMMe"
      },
      "source": [
        "MiModeloSimple2 = sm.OLS(data[\"CM\"], sm.add_constant(data[\"PGNP\"]))"
      ],
      "execution_count": 7,
      "outputs": []
    },
    {
      "cell_type": "markdown",
      "metadata": {
        "id": "lqOC2qXqkjMx"
      },
      "source": [
        "Para realizar la estimación y visualizar los resultados correspondientes, basta con repetir la misma estructura de los códigos empleados previamente (en el caso del modelo sin término del intercepto). Así:"
      ]
    },
    {
      "cell_type": "code",
      "metadata": {
        "trusted": false,
        "id": "y78Y1JpqYMMe",
        "colab": {
          "base_uri": "https://localhost:8080/"
        },
        "outputId": "b0bee17d-f3ae-4d14-fc82-a67e7693d41d"
      },
      "source": [
        "ResultadosSimple2 = MiModeloSimple2.fit()\n",
        "print(ResultadosSimple2.summary())"
      ],
      "execution_count": 8,
      "outputs": [
        {
          "output_type": "stream",
          "text": [
            "                            OLS Regression Results                            \n",
            "==============================================================================\n",
            "Dep. Variable:                     CM   R-squared:                       0.166\n",
            "Model:                            OLS   Adj. R-squared:                  0.153\n",
            "Method:                 Least Squares   F-statistic:                     12.36\n",
            "Date:                Sun, 24 Jan 2021   Prob (F-statistic):           0.000826\n",
            "Time:                        18:13:54   Log-Likelihood:                -361.64\n",
            "No. Observations:                  64   AIC:                             727.3\n",
            "Df Residuals:                      62   BIC:                             731.6\n",
            "Df Model:                           1                                         \n",
            "Covariance Type:            nonrobust                                         \n",
            "==============================================================================\n",
            "                 coef    std err          t      P>|t|      [0.025      0.975]\n",
            "------------------------------------------------------------------------------\n",
            "const        157.4244      9.846     15.989      0.000     137.743     177.105\n",
            "PGNP          -0.0114      0.003     -3.516      0.001      -0.018      -0.005\n",
            "==============================================================================\n",
            "Omnibus:                        3.321   Durbin-Watson:                   1.931\n",
            "Prob(Omnibus):                  0.190   Jarque-Bera (JB):                2.545\n",
            "Skew:                           0.345   Prob(JB):                        0.280\n",
            "Kurtosis:                       2.309   Cond. No.                     3.43e+03\n",
            "==============================================================================\n",
            "\n",
            "Warnings:\n",
            "[1] Standard Errors assume that the covariance matrix of the errors is correctly specified.\n",
            "[2] The condition number is large, 3.43e+03. This might indicate that there are\n",
            "strong multicollinearity or other numerical problems.\n"
          ],
          "name": "stdout"
        }
      ]
    },
    {
      "cell_type": "markdown",
      "metadata": {
        "id": "ZtyOUN95krEd"
      },
      "source": [
        "Ahora, se puede observar que el coeficiente correspondiente a la variable explicativa es negativo, tal y como se había presumido en el examen visual, y que ésta es estadísticamente significativa. Lo que se hará enseguida es graficar los valores originales y los valores estimados por el modelo, de modo que puedan contrastarse y sea posible un examen visual de la bondad de ajuste de éste. Para esto, nuevamente se hará uso del método `.scatter(...)` aplicado sobre un `Axes` de *Matplotlib*."
      ]
    },
    {
      "cell_type": "code",
      "metadata": {
        "trusted": false,
        "id": "N8gkT0OWYMMf",
        "colab": {
          "base_uri": "https://localhost:8080/",
          "height": 415
        },
        "outputId": "dd819292-74d4-4fd4-a8bc-c07929079ce3"
      },
      "source": [
        "fig, ax = plt.subplots(figsize = (10,5))\n",
        "fig.suptitle(\"Regresión lineal simple (MCO)\", fontsize = 18,\n",
        "             fontweight = \"bold\")\n",
        "ax.scatter(data[\"PGNP\"], data[\"CM\"], s = 50, \n",
        "           label = \"Valores originales\",\n",
        "           color = \"darkblue\")\n",
        "ax.scatter(data[\"PGNP\"], ResultadosSimple2.predict(), s = 50,\n",
        "           label = \"Valores estimados\",\n",
        "           color = \"red\")\n",
        "ax.set_xlabel(\"PIB per cápita\", fontsize = 15)\n",
        "ax.set_ylabel(\"Mortalidad infantil\\n(por cada 1000 nacidos vivos)\", \n",
        "           fontsize = 15)\n",
        "ax.legend(frameon = True, loc = \"lower left\")\n",
        "plt.subplots_adjust(top=0.9)\n",
        "plt.tick_params(labelsize = 15)\n",
        "fig.text(.9,-.02,\n",
        "         \"Elaboración:\",\n",
        "          fontsize = 13, fontweight = \"bold\",\n",
        "        ha = \"right\")\n",
        "fig.text(.9,-.08,\n",
        "         \"Triana, F.\",\n",
        "         fontsize = 12, ha = \"right\")\n",
        "plt.show()"
      ],
      "execution_count": 9,
      "outputs": [
        {
          "output_type": "display_data",
          "data": {
            "image/png": "[encoded data removed]",
            "text/plain": [
              "<Figure size 720x360 with 1 Axes>"
            ]
          },
          "metadata": {
            "tags": [],
            "needs_background": "light"
          }
        }
      ]
    },
    {
      "cell_type": "markdown",
      "metadata": {
        "id": "4GNTS9vqlBcy"
      },
      "source": [
        "Se observa que la bondad de ajuste del modelo no es la mejor. ¿A qué se debe este resultado desalentador?\r\n",
        "Si se  examina el gráfico anterior se puede notar que la parte correspondiente a los datos originales presenta un muy ligero parecido con el gráfico de una función de la forma $y = f(x) = \\frac{a}\r\n",
        "{x}$, con $a > 0$, $x > 0$ y representación del valor de $x$ en el eje de las abscisas y del valor de $y$ en el eje de las ordenadas. Este parecido sugiere que la forma funcional $y_i = \\beta_0 + \\beta_1x_i + u_i$ tal vez no sea la más adecuada para modelar una relación con estos datos, en cuanto $y$ puede asemejarse más a una función de $x$ de la forma $f(x) = \\frac{a}{x}$ \r\n",
        "$(a \\neq 0)$ que a una de la forma $f(x) = ax$ $(a \\neq 0)$. Teniendo en cuenta esto, tal vez la forma $y_i = \\beta_0 + \\beta_1\\frac{1}{x_i}+ u_i$ genere mejores resultados.\r\n",
        "\r\n",
        "Para trabajar con un modelo recíproco se debe tener en cuenta que la estimación no se hará a partir de los valores de $x$ sino de los valores de $\\frac{1}{x}$. Evidentemente, esto implica que el modelo es no lineal en la variable $x$, pero, ¿esto significa que lo que se llevará a cabo es una regresión no lineal? La respuesta es no. Aunque el\r\n",
        "modelo ya no es lineal en la variable $x$, se debe recordar que la linealidad considerada hace referencia a los parámetros y no a las variables, por lo cual, a pesar de la no linealidad de la variable, sigue tratándose de un modelo de regresión lineal, en cuanto la linealidad en los parámetros no se ha visto afectada.\r\n",
        "\r\n",
        "Aunque se desconocen los valores de $\\frac{1}{PGNP}$, aún se tiene la posibilidad de obtenerlos en tanto los valores de $PGNP$ son conocidos y tan solo se debe realizar una operación matemática sencilla. El cálculo de estos valores, a pesar de ser simple, puede resultar tedioso dada la cantidad de los mismos y puede llevar a cometer\r\n",
        "errores si se ejecuta de forma \"manual\"; por fortuna, *pandas* resulta muy útil en este contexto, pues evita la realización de tal labor \"manual\" para el cálculo de cada uno de los valores, al permitir aplicar operaciones matemáticas básicas de Python que permiten obtener el resultado fácilmente.\r\n",
        "\r\n",
        "Se creará la variable correspondiente al recíproco de la variable original, ya que ésta no hace parte del dataset. Para crear dicha variable, simplemente se realiza una asignación a una `Series` de *pandas*, señalando el nombre del `DataFrame` correspondiente y, a continuación, especificando el nombre que quiere darse a la\r\n",
        "variable nueva (escrito entre comillas) dentro de corchetes [ ]. Así:"
      ]
    },
    {
      "cell_type": "code",
      "metadata": {
        "trusted": false,
        "id": "VWgsP4GNYMMf"
      },
      "source": [
        "data[\"1/PGNP\"] = 1/data[\"PGNP\"]"
      ],
      "execution_count": 10,
      "outputs": []
    },
    {
      "cell_type": "markdown",
      "metadata": {
        "id": "JolYUfDFnpeg"
      },
      "source": [
        "Se verifica la correcta ejecución del proceso, recurriendo al método `.head()`:"
      ]
    },
    {
      "cell_type": "code",
      "metadata": {
        "trusted": false,
        "id": "pgdn8Q4nYMMf",
        "colab": {
          "base_uri": "https://localhost:8080/",
          "height": 206
        },
        "outputId": "fc4c780a-7132-4f22-80eb-bb45e55a96c8"
      },
      "source": [
        "data.head()"
      ],
      "execution_count": 11,
      "outputs": [
        {
          "output_type": "execute_result",
          "data": {
            "text/html": [
              "<div>\n",
              "<style scoped>\n",
              "    .dataframe tbody tr th:only-of-type {\n",
              "        vertical-align: middle;\n",
              "    }\n",
              "\n",
              "    .dataframe tbody tr th {\n",
              "        vertical-align: top;\n",
              "    }\n",
              "\n",
              "    .dataframe thead th {\n",
              "        text-align: right;\n",
              "    }\n",
              "</style>\n",
              "<table border=\"1\" class=\"dataframe\">\n",
              "  <thead>\n",
              "    <tr style=\"text-align: right;\">\n",
              "      <th></th>\n",
              "      <th>CM</th>\n",
              "      <th>FLR</th>\n",
              "      <th>PGNP</th>\n",
              "      <th>TFR</th>\n",
              "      <th>1/PGNP</th>\n",
              "    </tr>\n",
              "  </thead>\n",
              "  <tbody>\n",
              "    <tr>\n",
              "      <th>0</th>\n",
              "      <td>128</td>\n",
              "      <td>37</td>\n",
              "      <td>1870</td>\n",
              "      <td>6.66</td>\n",
              "      <td>0.000535</td>\n",
              "    </tr>\n",
              "    <tr>\n",
              "      <th>1</th>\n",
              "      <td>204</td>\n",
              "      <td>22</td>\n",
              "      <td>130</td>\n",
              "      <td>6.15</td>\n",
              "      <td>0.007692</td>\n",
              "    </tr>\n",
              "    <tr>\n",
              "      <th>2</th>\n",
              "      <td>202</td>\n",
              "      <td>16</td>\n",
              "      <td>310</td>\n",
              "      <td>7.00</td>\n",
              "      <td>0.003226</td>\n",
              "    </tr>\n",
              "    <tr>\n",
              "      <th>3</th>\n",
              "      <td>197</td>\n",
              "      <td>65</td>\n",
              "      <td>570</td>\n",
              "      <td>6.25</td>\n",
              "      <td>0.001754</td>\n",
              "    </tr>\n",
              "    <tr>\n",
              "      <th>4</th>\n",
              "      <td>96</td>\n",
              "      <td>76</td>\n",
              "      <td>2050</td>\n",
              "      <td>3.81</td>\n",
              "      <td>0.000488</td>\n",
              "    </tr>\n",
              "  </tbody>\n",
              "</table>\n",
              "</div>"
            ],
            "text/plain": [
              "    CM  FLR  PGNP   TFR    1/PGNP\n",
              "0  128   37  1870  6.66  0.000535\n",
              "1  204   22   130  6.15  0.007692\n",
              "2  202   16   310  7.00  0.003226\n",
              "3  197   65   570  6.25  0.001754\n",
              "4   96   76  2050  3.81  0.000488"
            ]
          },
          "metadata": {
            "tags": []
          },
          "execution_count": 11
        }
      ]
    },
    {
      "cell_type": "markdown",
      "metadata": {
        "id": "Y1vDjDjOn19p"
      },
      "source": [
        "Ahora, estimaremos el modelo $y_i = \\beta_0 + \\beta_1\\frac{1}\r\n",
        "{x_i}+ u_i$, teniendo en cuenta que $\\frac{1}{x}$ corresponde a la variable recién creada \"1/PGNP\", y observaremos si se genera una mejora en el ajuste respecto al obtenido con la estimación de $y_i = \\beta_0 + \\beta_1x_i + u_i$. Para la construcción y estimación del modelo y visualización de los resultados, emplearemos, nuevamente, la función `OLS(...)` de *Statsmodels.api* y los métodos `.fit()` y `.summary()`:"
      ]
    },
    {
      "cell_type": "code",
      "metadata": {
        "trusted": false,
        "id": "YRhsrQYWYMMg",
        "colab": {
          "base_uri": "https://localhost:8080/"
        },
        "outputId": "49e4505e-604c-49c9-80e8-3ea7a11d0e91"
      },
      "source": [
        "MiModeloSimple3 = sm.OLS(data[\"CM\"], sm.add_constant(data[[\"1/PGNP\"]]))\n",
        "ResultadosSimple3 = MiModeloSimple3.fit()\n",
        "print(ResultadosSimple3.summary())"
      ],
      "execution_count": 12,
      "outputs": [
        {
          "output_type": "stream",
          "text": [
            "                            OLS Regression Results                            \n",
            "==============================================================================\n",
            "Dep. Variable:                     CM   R-squared:                       0.459\n",
            "Model:                            OLS   Adj. R-squared:                  0.450\n",
            "Method:                 Least Squares   F-statistic:                     52.61\n",
            "Date:                Sun, 24 Jan 2021   Prob (F-statistic):           7.82e-10\n",
            "Time:                        18:13:54   Log-Likelihood:                -347.79\n",
            "No. Observations:                  64   AIC:                             699.6\n",
            "Df Residuals:                      62   BIC:                             703.9\n",
            "Df Model:                           1                                         \n",
            "Covariance Type:            nonrobust                                         \n",
            "==============================================================================\n",
            "                 coef    std err          t      P>|t|      [0.025      0.975]\n",
            "------------------------------------------------------------------------------\n",
            "const         81.7944     10.832      7.551      0.000      60.141     103.447\n",
            "1/PGNP      2.727e+04   3759.999      7.254      0.000    1.98e+04    3.48e+04\n",
            "==============================================================================\n",
            "Omnibus:                        0.147   Durbin-Watson:                   1.959\n",
            "Prob(Omnibus):                  0.929   Jarque-Bera (JB):                0.334\n",
            "Skew:                           0.065   Prob(JB):                        0.846\n",
            "Kurtosis:                       2.671   Cond. No.                         534.\n",
            "==============================================================================\n",
            "\n",
            "Warnings:\n",
            "[1] Standard Errors assume that the covariance matrix of the errors is correctly specified.\n"
          ],
          "name": "stdout"
        }
      ]
    },
    {
      "cell_type": "markdown",
      "metadata": {
        "id": "oaVMok03orZ8"
      },
      "source": [
        "Ahora, procedemos a graficar los valores originales y los valores estimados, usando el método\r\n",
        "`.scatter(...)` de un `Axes` de *Matplotlib*, de modo que podamos observar si efectivamente se genera una\r\n",
        "mejora en el ajuste:"
      ]
    },
    {
      "cell_type": "code",
      "metadata": {
        "trusted": false,
        "id": "1W4VWBhyYMMg",
        "colab": {
          "base_uri": "https://localhost:8080/",
          "height": 415
        },
        "outputId": "a36975f8-6e43-47de-ce26-f1e77f369f29"
      },
      "source": [
        "fig, ax = plt.subplots(figsize = (10,5))\n",
        "fig.suptitle(\"Regresión lineal simple (MCO)\", fontsize = 18,\n",
        "            fontweight = \"bold\")\n",
        "ax.scatter(data[\"PGNP\"], data[\"CM\"], s = 50, \n",
        "           label = \"Valores originales\",\n",
        "           color = \"darkblue\")\n",
        "ax.scatter(data[\"PGNP\"], ResultadosSimple3.predict(), s = 50,\n",
        "           label = \"Valores estimados\",\n",
        "           color = \"red\")\n",
        "ax.set_xlabel(\"PIB per cápita\", fontsize = 15)\n",
        "ax.set_ylabel(\"Mortalidad infantil\\n(por cada 1000 nacidos vivos)\", \n",
        "           fontsize = 15)\n",
        "ax.legend(frameon = True, loc = \"lower right\")\n",
        "plt.subplots_adjust(top=0.9)\n",
        "plt.tick_params(labelsize = 15)\n",
        "fig.text(.9,-.02,\n",
        "         \"Elaboración:\",\n",
        "         fontsize = 13, fontweight = \"bold\",\n",
        "         ha = \"right\")\n",
        "fig.text(.9,-.08,\n",
        "         \"Triana, F.\",\n",
        "         fontsize = 12, ha = \"right\")\n",
        "plt.show()"
      ],
      "execution_count": 13,
      "outputs": [
        {
          "output_type": "display_data",
          "data": {
            "image/png": "[encoded data removed]",
            "text/plain": [
              "<Figure size 720x360 with 1 Axes>"
            ]
          },
          "metadata": {
            "tags": [],
            "needs_background": "light"
          }
        }
      ]
    },
    {
      "cell_type": "markdown",
      "metadata": {
        "id": "kZSNaWSso2yt"
      },
      "source": [
        "Como podemos observar, se presenta una mejora clara, en cuanto el ajuste parece ser más adecuado; la mejora es visualmente evidente, sin embargo, también se ha presentado un incremento apreciable del coeficiente de determinación, o $R^2$, el cual ha pasado de 0.166 a 0.459, como se puede comprobar en las tablas de\r\n",
        "resumen de cada regresión. Así, para este caso particular, la forma funcional del modelo recíproco parece ser\r\n",
        "más apropiada que la forma funcional tradicional."
      ]
    },
    {
      "cell_type": "markdown",
      "metadata": {
        "id": "EXFP-mULilXW"
      },
      "source": [
        "## Referencias:\r\n",
        "\r\n",
        "Gujarati, D.N. y Porter, D.C. (2010). *Econometría*. México: McGraw-Hill/Interamericana Editores, S.A. de C.V.\r\n",
        "\r\n",
        "Greene, W.H. (2003). *Econometric Analysis*. New Jersey, Estados Unidos: Pearson Education, Inc."
      ]
    }
  ]
}